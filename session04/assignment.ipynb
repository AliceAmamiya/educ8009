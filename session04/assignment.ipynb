{
 "cells": [
  {
   "metadata": {},
   "cell_type": "markdown",
   "source": [
    "----\n",
    "title: \"Laboratory 02\"\n",
    "format:\n",
    "    html: default\n",
    "    pdf:\n",
    "        margin: 0.5in\n",
    "        papersize: a4\n",
    "        toc: true\n",
    "        number-sections: true\n",
    "----"
   ],
   "id": "7caa75f3b62daa63"
  },
  {
   "metadata": {},
   "cell_type": "markdown",
   "source": [
    "# Context and questions \n",
    "A researcher wondered whether a fish or cat made a better pet. He found some people who had either fish or cats as pets and measured their life satisfaction and how much they like animals. The data are saved in `pets.sav`.\n",
    "\n",
    "# Objectives\n",
    "1. Describe the frequency distribution of pet.\n",
    "2. Draw boxplots for life satisfaction by pet. Compare the life satisfaction of those who\n",
    "have fish and those who have cats.\n",
    "3. Draw a histogram of life satisfaction. Describe your findings.\n",
    "4. Obtain the mean, median, standard deviation, range, and inter-quartile range of life\n",
    "satisfaction. Which indices for central tendency and dispersion will you choose to\n",
    "describe this variable? Why?\n",
    "5. (Extra credit) Draw histograms of life satisfaction by pet. In SPSS, you can follow\n",
    "the procedure below.\n",
    "    ```\n",
    "    (1) ⟨ Graphs⟩ ⟶ ⟨ Chart Builder⟩ ⟶ ⟨ OK ⟩\n",
    "    (2) Double-click on ⟨ Simple Histogram ⟩ under ⟨ Histogram ⟩\n",
    "    (3) Check ⟨ Columns panel variable ⟩ under ⟨ Groups/Point ID ⟩\n",
    "    (4) Drag “Type of pet” to ⟨Panel? ⟩\n",
    "    (5) Drag “Life satisfaction” to ⟨ X-Axis? ⟩\n",
    "    (6) ⟨ OK ⟩\n",
    "    Describe your findings.\n",
    "    ```"
   ],
   "id": "842e83448ec87f7e"
  },
  {
   "metadata": {},
   "cell_type": "markdown",
   "source": "As always, I load the library required and the dataset. Since this time we don't need to dig too much into the SPSS-reserved metadata of this file, I directly load the data through `pandas`'s `pd.read_spss()` function and did a quick summary on the existing dataset:  ",
   "id": "e6dd31b0c96a6f7b"
  },
  {
   "metadata": {
    "ExecuteTime": {
     "end_time": "2024-10-02T09:17:50.717148Z",
     "start_time": "2024-10-02T09:17:50.705722Z"
    }
   },
   "cell_type": "code",
   "source": [
    "import numpy as np\n",
    "import pandas as pd\n",
    "from matplotlib import pyplot as plt\n",
    "\n",
    "# Read sav files\n",
    "pets = pd.read_spss('./datasets/pets.sav')"
   ],
   "id": "adad6cd414ffee15",
   "outputs": [],
   "execution_count": 4
  },
  {
   "metadata": {
    "ExecuteTime": {
     "end_time": "2024-10-02T09:24:18.621966Z",
     "start_time": "2024-10-02T09:24:18.610268Z"
    }
   },
   "cell_type": "code",
   "source": [
    "# A quick summary on its shape, columns, and data distribution: \n",
    "\n",
    "def summarize(df_pets):\n",
    "    shape = df_pets.shape\n",
    "    columns = df_pets.columns\n",
    "    description = df_pets.describe()\n",
    "    print(df_pets.head(5))\n",
    "    print(\"Number of rows and columns of the loaded dataset: \")\n",
    "    print(\"Rows: \" + str(shape[0]) + \n",
    "          \"\\nColumns: \" + str(shape[1]))\n",
    "    print(\"Columns of the loaded dataset: \")\n",
    "    print(columns)\n",
    "    print(\"Description of the loaded dataset:\")\n",
    "    print(description)\n",
    "\n",
    "summarize(pets)"
   ],
   "id": "8fefac4d93e90fc9",
   "outputs": [
    {
     "name": "stdout",
     "output_type": "stream",
     "text": [
      "    pet  animal  life_satisfaction\n",
      "0  Fish    69.0               47.0\n",
      "1  Fish    25.0                6.0\n",
      "2  Fish    31.0               47.0\n",
      "3  Fish    29.0               33.0\n",
      "4  Fish    12.0               13.0\n",
      "Number of rows and columns of the loaded dataset: \n",
      "Rows: 20\n",
      "Columns: 3\n",
      "Columns of the loaded dataset: \n",
      "Index(['pet', 'animal', 'life_satisfaction'], dtype='object')\n",
      "Description of the loaded dataset:\n",
      "          animal  life_satisfaction\n",
      "count  20.000000          20.000000\n",
      "mean   36.200000          46.950000\n",
      "std    15.449749          17.506315\n",
      "min    12.000000           6.000000\n",
      "25%    25.000000          40.750000\n",
      "50%    35.000000          47.500000\n",
      "75%    45.250000          60.250000\n",
      "max    69.000000          72.000000\n"
     ]
    }
   ],
   "execution_count": 12
  },
  {
   "metadata": {},
   "cell_type": "markdown",
   "source": [
    "# Q1: The frequency distribution of `pet`\n",
    "\n",
    "**Answer**\n",
    "\n",
    "| Pet  | Frequency |\n",
    "|------|-----------|\n",
    "| Cat  | 8         |\n",
    "| Fish | 12        |\n",
    "\n",
    "\n",
    "\n",
    "**Solution**"
   ],
   "id": "cd7ca030f4568a32"
  },
  {
   "metadata": {
    "ExecuteTime": {
     "end_time": "2024-10-02T09:19:46.551566Z",
     "start_time": "2024-10-02T09:19:46.541779Z"
    }
   },
   "cell_type": "code",
   "source": [
    "def freq_pet('')\n",
    "pets['pet'].value_counts()"
   ],
   "id": "947cf3d803b79e3d",
   "outputs": [
    {
     "data": {
      "text/plain": [
       "pet\n",
       "Fish    12\n",
       "Cat      8\n",
       "Name: count, dtype: int64"
      ]
     },
     "execution_count": 10,
     "metadata": {},
     "output_type": "execute_result"
    }
   ],
   "execution_count": 10
  },
  {
   "metadata": {},
   "cell_type": "markdown",
   "source": "# Q2: Boxplot on fish and cat",
   "id": "57aac090efd9418b"
  },
  {
   "metadata": {
    "ExecuteTime": {
     "end_time": "2024-10-02T09:38:06.470025Z",
     "start_time": "2024-10-02T09:38:06.302107Z"
    }
   },
   "cell_type": "code",
   "source": [
    "import seaborn as sns\n",
    "import matplotlib.pyplot as plt\n",
    "sns.boxplot(pets, x='pet', y='life_satisfaction', hue='pet')"
   ],
   "id": "432793b281704ec8",
   "outputs": [
    {
     "data": {
      "text/plain": [
       "<Axes: xlabel='pet', ylabel='life_satisfaction'>"
      ]
     },
     "execution_count": 47,
     "metadata": {},
     "output_type": "execute_result"
    },
    {
     "data": {
      "text/plain": [
       "<Figure size 640x480 with 1 Axes>"
      ],
      "image/png": "[encoded data removed]"
     },
     "metadata": {},
     "output_type": "display_data"
    }
   ],
   "execution_count": 47
  },
  {
   "metadata": {},
   "cell_type": "markdown",
   "source": "# Q3+Q5: Histogram of `life_satisfaction` (+ by pet)",
   "id": "ea7ffb8734ed4642"
  },
  {
   "metadata": {
    "ExecuteTime": {
     "end_time": "2024-10-02T09:28:05.196511Z",
     "start_time": "2024-10-02T09:28:04.950881Z"
    }
   },
   "cell_type": "code",
   "source": "sns.histplot(data=pets, x='life_satisfaction', bins=15)",
   "id": "1c3cdebb1f562cb5",
   "outputs": [
    {
     "data": {
      "text/plain": [
       "<Axes: xlabel='life_satisfaction', ylabel='Count'>"
      ]
     },
     "execution_count": 23,
     "metadata": {},
     "output_type": "execute_result"
    },
    {
     "data": {
      "text/plain": [
       "<Figure size 640x480 with 1 Axes>"
      ],
      "image/png": "[encoded data removed]"
     },
     "metadata": {},
     "output_type": "display_data"
    }
   ],
   "execution_count": 23
  },
  {
   "metadata": {
    "ExecuteTime": {
     "end_time": "2024-10-02T10:19:04.943886Z",
     "start_time": "2024-10-02T10:19:04.445750Z"
    }
   },
   "cell_type": "code",
   "source": [
    "g = sns.FacetGrid(data=pets, col='pet', hue='pet')\n",
    "g = g.map(plt.hist, 'life_satisfaction', bins=15)\n",
    "plt.show()"
   ],
   "id": "9ea98ec2bcd8e08b",
   "outputs": [
    {
     "data": {
      "text/plain": [
       "<Figure size 600x300 with 2 Axes>"
      ],
      "image/png": "[encoded data removed]"
     },
     "metadata": {},
     "output_type": "display_data"
    }
   ],
   "execution_count": 74
  },
  {
   "metadata": {},
   "cell_type": "markdown",
   "source": [
    "# Q4: Measurements to describe variables\n",
    "\n",
    "I believe this \n",
    "mean, median, standard deviation, range, and inter-quartile range"
   ],
   "id": "edec504b1a94198a"
  },
  {
   "metadata": {
    "ExecuteTime": {
     "end_time": "2024-10-02T09:47:22.483014Z",
     "start_time": "2024-10-02T09:47:22.476856Z"
    }
   },
   "cell_type": "code",
   "source": [
    "# Mean: \n",
    "print(pets['life_satisfaction'].mean())\n",
    "# Median: \n",
    "print(pets['life_satisfaction'].median())\n",
    "# Standard Deviation: \n",
    "print(pets['life_satisfaction'].std())\n",
    "# Interquartile range: \n",
    "print(pets['life_satisfaction'].quantile([0.25, 0.75]))\n",
    "print(60.25-40.75)"
   ],
   "id": "c073720679db23e9",
   "outputs": [
    {
     "name": "stdout",
     "output_type": "stream",
     "text": [
      "46.95\n",
      "47.5\n",
      "17.50631465019348\n",
      "0.25    40.75\n",
      "0.75    60.25\n",
      "Name: life_satisfaction, dtype: float64\n",
      "19.5\n"
     ]
    }
   ],
   "execution_count": 66
  },
  {
   "metadata": {
    "ExecuteTime": {
     "end_time": "2024-10-02T09:49:00.167719Z",
     "start_time": "2024-10-02T09:49:00.162423Z"
    }
   },
   "cell_type": "code",
   "source": [
    "from scipy import stats\n",
    "\n",
    "stats.iqr(pets['life_satisfaction'], rng=(0,100))"
   ],
   "id": "2c5132c17629947",
   "outputs": [
    {
     "data": {
      "text/plain": [
       "66.0"
      ]
     },
     "execution_count": 70,
     "metadata": {},
     "output_type": "execute_result"
    }
   ],
   "execution_count": 70
  },
  {
   "metadata": {},
   "cell_type": "markdown",
   "source": [
    "# Final thoughts: a FACULTY OF edu**CAT**ion\n",
    "\n",
    "![Alley cat in the E33 gate](./alley-cats-e33.webp)\n",
    "\n",
    "It's quite often to see a family of alley cats if you pass the gate in front of our faculty, they sometimes meow to the passengers, but most of the cases they remain silent and never let you touch them. \n",
    "\n",
    "\n",
    "Although applying the TNR (which means Trap-Neuter-Return) for those alley cats seems the best option to all of the characters in this story. Neither our government nor NGO did this for dozens of reason. We all love cats for sure. But constrain and trade-off is everywhere in the real life. \n",
    "\n",
    "So, the only thing I can say is, \n",
    "\n",
    "Kitty, live long and prosper 🖖."
   ],
   "id": "2f12d81e20b1e0be"
  }
 ],
 "metadata": {
  "kernelspec": {
   "display_name": "Python 3",
   "language": "python",
   "name": "python3"
  },
  "language_info": {
   "codemirror_mode": {
    "name": "ipython",
    "version": 2
   },
   "file_extension": ".py",
   "mimetype": "text/x-python",
   "name": "python",
   "nbconvert_exporter": "python",
   "pygments_lexer": "ipython2",
   "version": "2.7.6"
  }
 },
 "nbformat": 4,
 "nbformat_minor": 5
}
