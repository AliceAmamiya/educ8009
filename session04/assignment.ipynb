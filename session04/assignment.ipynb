{
 "cells": [
  {
   "cell_type": "markdown",
   "id": "7caa75f3b62daa63",
   "metadata": {},
   "source": [
    "---\n",
    "title: \"Laboratory 02\"\n",
    "format:\n",
    "    html: default\n",
    "    pdf:\n",
    "        margin: 0.5in\n",
    "        papersize: a4\n",
    "        toc: true\n",
    "        number-sections: true\n",
    "---"
   ]
  },
  {
   "cell_type": "markdown",
   "id": "842e83448ec87f7e",
   "metadata": {},
   "source": [
    "# Context\n",
    "A researcher wondered whether a fish or cat made a better pet. He found some people who had either fish or cats as pets and measured their life satisfaction and how much they like animals. The data are saved in `pets.sav`.\n",
    "\n",
    "# Objectives\n",
    "1. Describe the frequency distribution of pet.\n",
    "2. Draw boxplots for life satisfaction by pet. Compare the life satisfaction of those who have fish and those who have cats.\n",
    "3. Draw a histogram of life satisfaction. Describe your findings.\n",
    "4. Obtain the mean, median, standard deviation, range, and inter-quartile range of life satisfaction. Which indices for central tendency and dispersion will you choose to describe this variable? Why?\n",
    "5. (Extra credit) Draw histograms of life satisfaction by pet. In SPSS, you can follow the procedure below.\n",
    "\n",
    "    ```\n",
    "    (1) ⟨ Graphs⟩ ⟶ ⟨ Chart Builder⟩ ⟶ ⟨ OK ⟩  \n",
    "    (2) Double-click on ⟨ Simple Histogram ⟩ under ⟨ Histogram ⟩  \n",
    "    (3) Check ⟨ Columns panel variable ⟩ under ⟨ Groups/Point ID ⟩  \n",
    "    (4) Drag “Type of pet” to ⟨Panel? ⟩  \n",
    "    (5) Drag “Life satisfaction” to ⟨ X-Axis? ⟩  \n",
    "    (6) ⟨ OK ⟩  \n",
    "    ```\n",
    "    Describe your findings."
   ]
  },
  {
   "cell_type": "markdown",
   "id": "e6dd31b0c96a6f7b",
   "metadata": {},
   "source": [
    "As always, I load the library required and the dataset. Since this time we don't need to dig too much into the SPSS-reserved metadata of this file, I directly load the data through `pandas`'s `pd.read_spss()` function and did a quick summary on the existing dataset:  "
   ]
  },
  {
   "cell_type": "code",
   "execution_count": 1,
   "id": "adad6cd414ffee15",
   "metadata": {
    "ExecuteTime": {
     "end_time": "2024-10-02T09:17:50.717148Z",
     "start_time": "2024-10-02T09:17:50.705722Z"
    }
   },
   "outputs": [],
   "source": [
    "import pandas as pd\n",
    "from matplotlib import pyplot as plt\n",
    "import seaborn as sns\n",
    "from scipy import stats\n",
    "\n",
    "# Let's rock and roll\n",
    "pets = pd.read_spss('./datasets/pets.sav')"
   ]
  },
  {
   "cell_type": "code",
   "execution_count": 2,
   "id": "8fefac4d93e90fc9",
   "metadata": {
    "ExecuteTime": {
     "end_time": "2024-10-02T09:24:18.621966Z",
     "start_time": "2024-10-02T09:24:18.610268Z"
    }
   },
   "outputs": [
    {
     "name": "stdout",
     "output_type": "stream",
     "text": [
      "1. Just a peek of first 5 rows. \n",
      "    pet  animal  life_satisfaction\n",
      "0  Fish    69.0               47.0\n",
      "1  Fish    25.0                6.0\n",
      "2  Fish    31.0               47.0\n",
      "3  Fish    29.0               33.0\n",
      "4  Fish    12.0               13.0\n",
      "2. Number of rows and columns of the loaded dataset: \n",
      "    Rows: 20\n",
      "    Columns: 3\n",
      "3. Columns of the loaded dataset: \n",
      "Index(['pet', 'animal', 'life_satisfaction'], dtype='object')\n",
      "4. Description of the loaded dataset: \n",
      "          animal  life_satisfaction\n",
      "count  20.000000          20.000000\n",
      "mean   36.200000          46.950000\n",
      "std    15.449749          17.506315\n",
      "min    12.000000           6.000000\n",
      "25%    25.000000          40.750000\n",
      "50%    35.000000          47.500000\n",
      "75%    45.250000          60.250000\n",
      "max    69.000000          72.000000\n"
     ]
    }
   ],
   "source": [
    "# A quick summary on its shape, columns, and data distribution: \n",
    "\n",
    "def summarize_aio(df):\n",
    "    shape = df.shape\n",
    "    columns = df.columns\n",
    "    description = df.describe()\n",
    "    print('1. Just a peek of first 5 rows. ')\n",
    "    print(df.head(5))\n",
    "    print('2. Number of rows and columns of the loaded dataset: ')\n",
    "    print(\"    Rows: \" + str(shape[0]) + \n",
    "          \"\\n    Columns: \" + str(shape[1]))\n",
    "    print('3. Columns of the loaded dataset: ')\n",
    "    print(columns)\n",
    "    print('4. Description of the loaded dataset: ')\n",
    "    print(description)\n",
    "\n",
    "summarize_aio(pets)"
   ]
  },
  {
   "cell_type": "markdown",
   "id": "cd7ca030f4568a32",
   "metadata": {},
   "source": [
    "# Solutions\n",
    "\n",
    "## Q1: Frequency distribution of `pet`\n",
    "\n",
    "In SPSS, the Frequency function in Descriptive Statistics provides Frequency table with bar chart by default. I'll follow this flavor in my report. \n",
    "\n",
    "**Answer**\n",
    "\n",
    "| Pet  | Frequency |Percentage|\n",
    "|------|-----------|--------|\n",
    "| Cat  | 8         | 60%    |\n",
    "| Fish | 12        | 40%    |\n",
    "\n",
    "For the bar chart, see @fig-freq-bar-chart\n",
    "\n",
    "\n",
    "**Solution**"
   ]
  },
  {
   "cell_type": "code",
   "execution_count": 3,
   "id": "947cf3d803b79e3d",
   "metadata": {
    "ExecuteTime": {
     "end_time": "2024-10-02T09:19:46.551566Z",
     "start_time": "2024-10-02T09:19:46.541779Z"
    }
   },
   "outputs": [
    {
     "name": "stdout",
     "output_type": "stream",
     "text": [
      "1. Frequency: \n",
      "pet\n",
      "Fish    12\n",
      "Cat      8\n",
      "Name: count, dtype: int64\n",
      "----\n",
      "2. Percentage(%): \n",
      "pet\n",
      "Fish    60.0\n",
      "Cat     40.0\n",
      "Name: proportion, dtype: float64\n"
     ]
    }
   ],
   "source": [
    "# I use function for keeping the global namespace clean. \n",
    "def freq_distb(df, col_name):\n",
    "    column = df[str(col_name)]\n",
    "    print('1. Frequency: ')\n",
    "    freq = column.value_counts()\n",
    "    print(freq)\n",
    "    print('----\\n2. Percentage(%): ')\n",
    "    percentage = column.value_counts(normalize=True) * 100\n",
    "    print(percentage)\n",
    "\n",
    "freq_distb(pets, col_name='pet')"
   ]
  },
  {
   "cell_type": "code",
   "execution_count": 4,
   "id": "a688e56c",
   "metadata": {},
   "outputs": [
    {
     "data": {
      "text/plain": [
       "<Axes: xlabel='pet', ylabel='count'>"
      ]
     },
     "execution_count": 4,
     "metadata": {},
     "output_type": "execute_result"
    },
    {
     "data": {
      "image/png": "[encoded data removed]",
      "text/plain": [
       "<Figure size 640x480 with 1 Axes>"
      ]
     },
     "metadata": {},
     "output_type": "display_data"
    }
   ],
   "source": [
    "#| label: fig-freq-bar-chart\n",
    "#| fig-cap: \"Bar Chart on Frequency of `pet`\"\n",
    "# Plotting frequency\n",
    "sns.countplot(data=pets, x='pet')"
   ]
  },
  {
   "cell_type": "markdown",
   "id": "57aac090efd9418b",
   "metadata": {},
   "source": [
    "## Q2: Life satisfaction of pet owners\n",
    "\n",
    "**Answer**\n",
    "\n",
    "Based on the box plot (@fig-life-satisfaction), life satisfaction of cat and fish owners differ in aspects below: \n",
    "\n",
    "1. Median ($Q_2$): The box-plot shows that cat people normally have higher median of life satisfaction than the fish people. \n",
    "2. IQR ($Q_3 - Q_1$): The IQR for cat people is more concentrated, while for fish people, their IQR is much wider, which indicates more variability in life satisfaction.\n",
    "3. Range: Cat people's life satisfaction ranges from around 50 to 70, with an outlier below 50. Fish owners’ life satisfaction ranges from about 15 to 65, with an outlier below 15. \n",
    "\n",
    "In conclusion, cat owners generally report higher and more consistent life satisfaction compared to fish owners. \n",
    "\n",
    "Cats win! ฅ^•ﻌ•^ฅ\n",
    "\n",
    "**Solution**"
   ]
  },
  {
   "cell_type": "code",
   "execution_count": 5,
   "id": "432793b281704ec8",
   "metadata": {
    "ExecuteTime": {
     "end_time": "2024-10-02T09:38:06.470025Z",
     "start_time": "2024-10-02T09:38:06.302107Z"
    }
   },
   "outputs": [
    {
     "data": {
      "image/png": "[encoded data removed]",
      "text/plain": [
       "<Figure size 640x480 with 1 Axes>"
      ]
     },
     "metadata": {},
     "output_type": "display_data"
    }
   ],
   "source": [
    "#| label: fig-life-satisfaction\n",
    "#| fig-cap: \"Life satisfaction\"\n",
    "# Plotting Box-plot for Cat and Fish.\n",
    "sns.boxplot(pets, x='pet', y='life_satisfaction', hue='pet')\n",
    "plt.show()"
   ]
  },
  {
   "cell_type": "markdown",
   "id": "8545f0a7",
   "metadata": {},
   "source": [
    "## Q3+Q5: Histogram of `life_satisfaction` (+ by pet)\n",
    "\n",
    "**Answer (for Question 3): The Overall Distribution (@fig-overall-histogram)**\n",
    "\n",
    "1. The overall distribution shows that the highest concentration of life satisfaction is **around 50**.\n",
    "2. Extremely low life satisfaction scores exist, with individuals reporting **very low scores (around 10 to 30)**.\n",
    "3. The peak at around 50 reflects the central tendency for both groups, but, again, the tail on the left side of this figure suggests significantly lower satisfaction exists.\n",
    "\n",
    "**Solution**"
   ]
  },
  {
   "cell_type": "code",
   "execution_count": 6,
   "id": "1c3cdebb1f562cb5",
   "metadata": {
    "ExecuteTime": {
     "end_time": "2024-10-02T09:28:05.196511Z",
     "start_time": "2024-10-02T09:28:04.950881Z"
    }
   },
   "outputs": [
    {
     "data": {
      "text/plain": [
       "<function matplotlib.pyplot.show(close=None, block=None)>"
      ]
     },
     "execution_count": 6,
     "metadata": {},
     "output_type": "execute_result"
    },
    {
     "data": {
      "image/png": "[encoded data removed]",
      "text/plain": [
       "<Figure size 640x480 with 1 Axes>"
      ]
     },
     "metadata": {},
     "output_type": "display_data"
    }
   ],
   "source": [
    "#| label: fig-overall-histogram\n",
    "#| fig-cap: \"Overall distribution of life satisfaction\"\n",
    "sns.histplot(data=pets, x='life_satisfaction', bins=15)\n",
    "plt.show"
   ]
  },
  {
   "cell_type": "markdown",
   "id": "ca331cae",
   "metadata": {},
   "source": [
    "**Answer (for Question 5): A side-by-side comparison (@fig-side-by-side-histogram)** \n",
    "\n",
    "1. For cat owners:\n",
    "   - Life satisfaction scores are concentrated between 50 and 70, with most scores around 60.\n",
    "   - The distribution is tight, with one outlier who has a significantly lower life satisfaction score.\n",
    "2. For fish owners:\n",
    "   - Life satisfaction scores are more spreading, from around 10 to 60.\n",
    "   - The most frequent score is around 40-50, with several people having low satisfaction (below 20).\n",
    "   - Compared to cat owners, fish owners have a wider range of life satisfaction scores."
   ]
  },
  {
   "cell_type": "code",
   "execution_count": 7,
   "id": "9ea98ec2bcd8e08b",
   "metadata": {
    "ExecuteTime": {
     "end_time": "2024-10-02T10:19:04.943886Z",
     "start_time": "2024-10-02T10:19:04.445750Z"
    }
   },
   "outputs": [
    {
     "data": {
      "image/png": "[encoded data removed]",
      "text/plain": [
       "<Figure size 600x300 with 2 Axes>"
      ]
     },
     "metadata": {},
     "output_type": "display_data"
    }
   ],
   "source": [
    "#| label: fig-side-by-side-histogram\n",
    "#| fig-cap: \"Overall distribution of life satisfaction\"\n",
    "g = sns.FacetGrid(data=pets, col='pet', hue='pet')\n",
    "g = g.map(plt.hist, 'life_satisfaction', bins=15)\n",
    "plt.show()"
   ]
  },
  {
   "cell_type": "markdown",
   "id": "edec504b1a94198a",
   "metadata": {},
   "source": [
    "## Q4: Measurements to describe variables\n",
    "\n",
    "**Answer**\n",
    "\n",
    "Based on the dataset and output: \n",
    "\n",
    "| Values                | Overall (`pet`)   | Cat   | Fish  |\n",
    "|-----------------------|-------------------|-------|-------|\n",
    "| Mean                  | 46.95             | 60.13 | 38.17 |\n",
    "| Median                | 47.50             | 63.00 | 44.00 |\n",
    "| Standard Deviation    | 17.51             | 11.10 | 15.51 |\n",
    "| Range                 | 66.00             | 35.00 | 50.00 |\n",
    "| Inter-quartile range  | 19.50             | 8.50  | 15.75 |\n",
    "\n",
    "1. For central tendency: Median\n",
    "   - Median is a robust measure of central tendency, especially when there is a wide range of values and potential outliers. \n",
    "   - It is less affected by extreme values than the mean: providing a better representation of the typical life satisfaction for both cat and fish owners.\n",
    "2. For dispersion: IQR\n",
    "   - IQR measures the spread of the middle 50% of the data, which is less influenced by outliers compared to the full range or standard deviation. \n",
    "\n",
    "**Solution**"
   ]
  },
  {
   "cell_type": "code",
   "execution_count": 8,
   "id": "c073720679db23e9",
   "metadata": {
    "ExecuteTime": {
     "end_time": "2024-10-02T09:47:22.483014Z",
     "start_time": "2024-10-02T09:47:22.476856Z"
    }
   },
   "outputs": [
    {
     "name": "stdout",
     "output_type": "stream",
     "text": [
      "      Name       Mean  Median         SD  Range    IQR\n",
      "0  Overall  46.950000    47.5  17.506315   66.0  19.50\n",
      "1      Cat  60.125000    63.0  11.102606   35.0   8.50\n",
      "2     Fish  38.166667    44.0  15.508551   50.0  15.75\n"
     ]
    }
   ],
   "source": [
    "def get_stats(group, group_name, column):\n",
    "    dict_stats = {\n",
    "        'Name': group_name,\n",
    "        'Mean': group[column].mean(),\n",
    "        'Median': group[column].median(),\n",
    "        'SD': group[column].std(),\n",
    "        'Range': group[column].max() - group[column].min(),\n",
    "        'IQR': stats.iqr(group[column])\n",
    "    }\n",
    "    return dict_stats\n",
    "\n",
    "\n",
    "def describe_var():\n",
    "    # Overall\n",
    "    overall_stats = get_stats(pets, \n",
    "                              'Overall', \n",
    "                              'life_satisfaction')\n",
    "    # Meow\n",
    "    cat_stats = get_stats(pets[pets['pet'] == 'Cat'], \n",
    "                          'Cat', \n",
    "                          'life_satisfaction')\n",
    "    # Fish\n",
    "    fish_stats = get_stats(pets[pets['pet'] == 'Fish'], \n",
    "                           'Fish', \n",
    "                           'life_satisfaction')\n",
    "    # Output as a pd.DataFrame\n",
    "    df = pd.DataFrame([overall_stats, cat_stats, fish_stats])\n",
    "    return df\n",
    "\n",
    "print(describe_var())"
   ]
  },
  {
   "cell_type": "markdown",
   "id": "9fe1e646",
   "metadata": {},
   "source": [
    "## Q5: Histogram by `pet`\n",
    "\n",
    "See Question 3 + Question 5 (in Section 3.3). "
   ]
  },
  {
   "cell_type": "markdown",
   "id": "2f12d81e20b1e0be",
   "metadata": {},
   "source": [
    "# Final thoughts: FACULTY OF edu**CAT**ion\n",
    "\n",
    "![Alley cats in front of E33](./alley-cats-e33.jpg)\n",
    "\n",
    "It's quite common to see a family of alley cats near the gate in front of our faculty. They sometimes meow at passersby, but most of the time, they remain silent, keeping their distance, never letting anyone touch them. And that's fine—it’s important not to intrude on their family time. Cats are born to be free. There's a certain magic about them that, even on the most exhausting days, dealing with numbers, code, and all those frustrating \\LaTeX errors, just seeing them fills me with a sense of vitality. Maybe it’s not the same for everyone, but at least for me, they offer a brief respite from the chaos.\n",
    "\n",
    "Still, I can't help but worry a little about their unchecked reproduction. Although the TNR (Trap-Neuter-Return) method seems like the most balanced solution for everyone involved, neither the government nor any NGOs have taken action—probably for a host of reasons. We all love cats, but in the real world, there are always constraints and trade-offs.\n",
    "\n",
    "So, the only thing I can say is:\n",
    "\n",
    "Kitty, live long and prosper 🖖.\n",
    "\n",
    "[EOF]"
   ]
  }
 ],
 "metadata": {
  "kernelspec": {
   "display_name": "Python 3",
   "language": "python",
   "name": "python3"
  },
  "language_info": {
   "codemirror_mode": {
    "name": "ipython",
    "version": 3
   },
   "file_extension": ".py",
   "mimetype": "text/x-python",
   "name": "python",
   "nbconvert_exporter": "python",
   "pygments_lexer": "ipython3",
   "version": "3.10.14"
  }
 },
 "nbformat": 4,
 "nbformat_minor": 5
}
