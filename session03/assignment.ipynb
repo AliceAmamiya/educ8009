{
 "cells": [
  {
   "cell_type": "markdown",
   "metadata": {},
   "source": [
    "---\n",
    "title: \"Assignment: Laboratory 1\"\n",
    "# author: \"Yang SHEN (Y-C4-3117-4)\"\n",
    "format: \n",
    "    pdf: \n",
    "        documentclass: article\n",
    "        papsrsize: a4\n",
    "        fontsize: 11pt\n",
    "---"
   ]
  },
  {
   "cell_type": "markdown",
   "metadata": {},
   "source": [
    "## Background\n",
    "A biologist was worried about the potential health effects of music festivals. So, one year she went to the Download Music Festival (http://www.downloadfestival.co.uk) and measured the hygiene of 810 concert goers over the three days of the festival. In theory each person was measured on each day but because it was difficult to track people down, there were some missing data on days 2 and 3. Hygiene was measured using a technique that results in a score ranging between 0 (you smell like a rotting corpse) and 5 (you smell like sweet roses). Sanitation is not always great at these places, so this researcher predicted that personal hygiene would go down dramatically over the three days of the festival. The data file is called download.sav."
   ]
  },
  {
   "cell_type": "markdown",
   "metadata": {},
   "source": [
    "## Questions and Objectives\n",
    "1. What do 1, 2, and 3 mean in variable “gender”? What are their percentages in the sample?\n",
    "2. Draw a barplot of “gender” whose 𝑦-axis represents the percentage of each group.\n",
    "3. Draw a histogram of “day_1”. Is there anything wrong with this variable?\n",
    "4. How many cases have missing values for “day_2”?\n",
    "----\n",
    "5. (Extra credit) Exclude the outlier. In SPSS, you can follow the procedure below.\n",
    "   - ⟨ Data ⟩ ⟶ ⟨ Select Cases ⟩\n",
    "   - Select “If condition is satisfied” in ⟨ Select ⟩\n",
    "   - ⟨ If ⟩\n",
    "   - Double-click on the variable corresponding to “day_1” in the variable list\n",
    "   - ⟨ <= ⟩ ⟶ ⟨ 5 ⟩ ⟶ ⟨ Continue ⟩ ⟶ ⟨ OK ⟩\n",
    "Draw a histogram of “day_1” again in the same way as before."
   ]
  },
  {
   "cell_type": "code",
   "execution_count": null,
   "metadata": {},
   "outputs": [],
   "source": [
    "# Libraries for this lab tasks. \n",
    "import pandas as pd\n",
    "import matplotlib as plt\n",
    "from scipy import stats"
   ]
  },
  {
   "cell_type": "code",
   "execution_count": null,
   "metadata": {},
   "outputs": [],
   "source": [
    "# Load sav file to a DataFrame\n",
    "df_download = pd.read_spss(\"./dataset/download.sav\")\n",
    "\n",
    "# A peek on the structure of the DataFrame. \n",
    "print('Shape: \\n' + str(df_download.shape))\n",
    "print('Variables (in SPSS) or Column Names: \\n: ' + str(df_download.columns))\n",
    "print('Missing values (if any) \\n: ' + str(df_download.isna()))"
   ]
  },
  {
   "cell_type": "markdown",
   "metadata": {},
   "source": [
    "## Final thoughts\n"
   ]
  }
 ],
 "metadata": {
  "language_info": {
   "name": "python"
  }
 },
 "nbformat": 4,
 "nbformat_minor": 2
}
