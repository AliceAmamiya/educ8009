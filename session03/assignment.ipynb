{
 "cells": [
  {
   "cell_type": "markdown",
   "metadata": {},
   "source": [
    "---\n",
    "title: \"Assignment: Laboratory 1\"\n",
    "# author: \"Yang SHEN (Y-C4-3117-4)\"\n",
    "format: \n",
    "    pdf: \n",
    "        documentclass: article\n",
    "        papsrsize: a4\n",
    "        fontsize: 11pt\n",
    "---"
   ]
  },
  {
   "cell_type": "markdown",
   "metadata": {},
   "source": [
    "## Background\n",
    "A biologist was worried about the potential health effects of music festivals. So, one year she went to the Download Music Festival (http://www.downloadfestival.co.uk) and measured the hygiene of 810 concert goers over the three days of the festival. In theory each person was measured on each day but because it was difficult to track people down, there were some missing data on days 2 and 3. Hygiene was measured using a technique that results in a score ranging between 0 (you smell like a rotting corpse) and 5 (you smell like sweet roses). Sanitation is not always great at these places, so this researcher predicted that personal hygiene would go down dramatically over the three days of the festival. The data file is called download.sav."
   ]
  },
  {
   "cell_type": "markdown",
   "metadata": {},
   "source": [
    "## Questions and Objectives\n",
    "1. What do 1, 2, and 3 mean in variable “gender”? What are their percentages in the sample?\n",
    "2. Draw a barplot of “gender” whose 𝑦-axis represents the percentage of each group.\n",
    "3. Draw a histogram of “day_1”. Is there anything wrong with this variable?\n",
    "4. How many cases have missing values for “day_2”?\n",
    "----\n",
    "5. (Extra credit) Exclude the outlier. In SPSS, you can follow the procedure below.\n",
    "   - ⟨ Data ⟩ ⟶ ⟨ Select Cases ⟩\n",
    "   - Select “If condition is satisfied” in ⟨ Select ⟩\n",
    "   - ⟨ If ⟩\n",
    "   - Double-click on the variable corresponding to “day_1” in the variable list\n",
    "   - ⟨ <= ⟩ ⟶ ⟨ 5 ⟩ ⟶ ⟨ Continue ⟩ ⟶ ⟨ OK ⟩\n",
    "Draw a histogram of “day_1” again in the same way as before."
   ]
  },
  {
   "metadata": {},
   "cell_type": "markdown",
   "source": [
    "## Note\n",
    "I use python in my daily routine for its best integration with ML workflows, the implementation of all tasks will be performed in `python=3.10.14`, with `panda=2.2.2` and `scipy=1.13.1`. I also prepared the R flavor of this lab work with `base-r=4.3.3`. My advisor is an R person, I think it's better to speak the same language as him. \n",
    "\n",
    "All code leads me the solutions is enclosed in this document as well, also, if you prefer a modern, concise version, I also rendered to an interactive html version [here](https://aliceamamiya.github.io/educ8009/)."
   ]
  },
  {
   "cell_type": "code",
   "metadata": {
    "ExecuteTime": {
     "end_time": "2024-09-26T03:33:41.365757Z",
     "start_time": "2024-09-26T03:33:41.342790Z"
    }
   },
   "source": [
    "# Libraries for lab tasks. \n",
    "import pandas as pd\n",
    "import matplotlib as plt\n",
    "from scipy import stats"
   ],
   "outputs": [
    {
     "ename": "ModuleNotFoundError",
     "evalue": "No module named 'pandas'",
     "output_type": "error",
     "traceback": [
      "\u001B[0;31m---------------------------------------------------------------------------\u001B[0m",
      "\u001B[0;31mModuleNotFoundError\u001B[0m                       Traceback (most recent call last)",
      "Cell \u001B[0;32mIn[1], line 2\u001B[0m\n\u001B[1;32m      1\u001B[0m \u001B[38;5;66;03m# Libraries for lab tasks. \u001B[39;00m\n\u001B[0;32m----> 2\u001B[0m \u001B[38;5;28;01mimport\u001B[39;00m \u001B[38;5;21;01mpandas\u001B[39;00m \u001B[38;5;28;01mas\u001B[39;00m \u001B[38;5;21;01mpd\u001B[39;00m\n\u001B[1;32m      3\u001B[0m \u001B[38;5;28;01mimport\u001B[39;00m \u001B[38;5;21;01mmatplotlib\u001B[39;00m \u001B[38;5;28;01mas\u001B[39;00m \u001B[38;5;21;01mplt\u001B[39;00m\n\u001B[1;32m      4\u001B[0m \u001B[38;5;28;01mfrom\u001B[39;00m \u001B[38;5;21;01mscipy\u001B[39;00m \u001B[38;5;28;01mimport\u001B[39;00m stats\n",
      "\u001B[0;31mModuleNotFoundError\u001B[0m: No module named 'pandas'"
     ]
    }
   ],
   "execution_count": 1
  },
  {
   "cell_type": "code",
   "metadata": {},
   "source": [
    "# Load sav file to a DataFrame\n",
    "df_download = pd.read_spss(\"./dataset/download.sav\")\n",
    "\n",
    "# A peek on the structure of the DataFrame. \n",
    "print('Shape: \\n' + str(df_download.shape))\n",
    "print('Variables (in SPSS) or Column Names: \\n: ' + str(df_download.columns))\n",
    "print('Missing values (if any) \\n: ' + str(df_download.isna()))"
   ],
   "outputs": [],
   "execution_count": null
  },
  {
   "metadata": {},
   "cell_type": "markdown",
   "source": "### Q1: What do 1, 2, and 3 mean in variable “gender”? What are their percentages in the sample?"
  },
  {
   "cell_type": "markdown",
   "metadata": {},
   "source": [
    "## Final thoughts\n"
   ]
  }
 ],
 "metadata": {
  "language_info": {
   "name": "python"
  },
  "kernelspec": {
   "name": "python3",
   "language": "python",
   "display_name": "Python 3 (ipykernel)"
  }
 },
 "nbformat": 4,
 "nbformat_minor": 2
}
