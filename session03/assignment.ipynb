{
 "cells": [
  {
   "cell_type": "markdown",
   "metadata": {},
   "source": [
    "---\n",
    "title: \"Assignment: Laboratory 1\"\n",
    "format: \n",
    "    html: default\n",
    "    pdf: \n",
    "        margin: 0.5in\n",
    "        papersize: a4\n",
    "        toc: true\n",
    "        toc-depth: 4\n",
    "        number-sections: true\n",
    "        highlight-style: github\n",
    "---"
   ]
  },
  {
   "cell_type": "markdown",
   "metadata": {},
   "source": [
    "# Context of this dataset\n",
    "A biologist was worried about the potential health effects of music festivals. So, one year she went to the Download Music Festival (http://www.downloadfestival.co.uk) and measured the hygiene of 810 concert goers over the three days of the festival. In theory each person was measured on each day but because it was difficult to track people down, there were some missing data on days 2 and 3. Hygiene was measured using a technique that results in a score ranging between 0 (you smell like a rotting corpse) and 5 (you smell like sweet roses). Sanitation is not always great at these places, so this researcher predicted that personal hygiene would go down dramatically over the three days of the festival. The data file is called download.sav."
   ]
  },
  {
   "metadata": {},
   "cell_type": "markdown",
   "source": [
    "# Note\n",
    "For this work, I used `python=3.10.14` and `pandas=2.2.2` as my primary tools, which align with my daily workflow. If you prefer a more modern experience (especially when reviewing the code), I’ve also rendered the output as an interactive HTML version, which you can access [here](https://aliceamamiya.github.io/educ8009/session03/assignment.html). The jupyter notebook of this assignment can be found [here](https://github.com/AliceAmamiya/educ8009/blob/main/session03/assignment.ipynb)."
   ]
  },
  {
   "metadata": {},
   "cell_type": "markdown",
   "source": [
    "# Questions and Objectives\n",
    "1. What do 1, 2, and 3 mean in variable “gender”? What are their percentages in the sample?\n",
    "2. Draw a barplot of “gender” whose 𝑦-axis represents the percentage of each group.\n",
    "3. Draw a histogram of “day_1”. Is there anything wrong with this variable?\n",
    "4. How many cases have missing values for “day_2”?\n",
    "5. (Extra credit) Exclude the outlier. In SPSS, you can follow the procedure below.\n",
    "```\n",
    "   - ⟨ Data ⟩ ⟶ ⟨ Select Cases ⟩\n",
    "   - Select “If condition is satisfied” in ⟨ Select ⟩\n",
    "   - ⟨ If ⟩\n",
    "   - Double-click on the variable corresponding to “day_1” in the variable list\n",
    "   - ⟨ <= ⟩ ⟶ ⟨ 5 ⟩ ⟶ ⟨ Continue ⟩ ⟶ ⟨ OK ⟩\n",
    "   - Draw a histogram of “day_1” again in the same way as before.\n",
    "```"
   ]
  },
  {
   "cell_type": "code",
   "metadata": {
    "ExecuteTime": {
     "end_time": "2024-09-26T08:30:56.472847Z",
     "start_time": "2024-09-26T08:30:55.467663Z"
    }
   },
   "source": [
    "from unittest.mock import inplace\n",
    "\n",
    "import pandas as pd\n",
    "import seaborn as sns\n",
    "import matplotlib.pyplot as plt\n",
    "import pyreadstat"
   ],
   "outputs": [],
   "execution_count": 1
  },
  {
   "metadata": {},
   "cell_type": "markdown",
   "source": [
    "## Preparation\n",
    "\n",
    "Before working on the lab work , I started with a quick EDA. "
   ]
  },
  {
   "cell_type": "code",
   "metadata": {
    "ExecuteTime": {
     "end_time": "2024-09-26T08:30:56.488859Z",
     "start_time": "2024-09-26T08:30:56.475860Z"
    }
   },
   "source": [
    "df_download, metadata_download = pyreadstat.read_sav(\"./datasets/download.sav\")\n",
    "\n",
    "# A quick peek on the structure of the DataFrame. \n",
    "print('0. An overall description of this dataset: \\n' + str(df_download.describe()) + '\\n')\n",
    "print('1. Shape - rows and columns: \\n' + str(df_download.shape) + '\\n') \n",
    "print('2. Variables (in SPSS) or column names: \\n ' + str(df_download.columns) + '\\n')\n",
    "print('3. Missing values (if any): \\n ' + str(df_download.isnull().sum()) + '\\n')"
   ],
   "outputs": [
    {
     "name": "stdout",
     "output_type": "stream",
     "text": [
      "0. An overall description of this dataset: \n",
      "         ticket_no      gender       day_1       day_2       day_3\n",
      "count   810.000000  810.000000  810.000000  264.000000  123.000000\n",
      "mean   3616.212346    1.769136    1.793358    0.960909    0.976504\n",
      "std     610.241493    0.632679    0.944495    0.720780    0.710277\n",
      "min    2111.000000    1.000000    0.020000    0.000000    0.020000\n",
      "25%    3096.250000    1.000000    1.312500    0.410000    0.440000\n",
      "50%    3620.500000    2.000000    1.790000    0.790000    0.760000\n",
      "75%    4154.750000    2.000000    2.230000    1.350000    1.525000\n",
      "max    4765.000000    3.000000   20.020000    3.440000    3.410000\n",
      "\n",
      "1. Shape - rows and columns: \n",
      "(810, 5)\n",
      "\n",
      "2. Variables (in SPSS) or column names: \n",
      " Index(['ticket_no', 'gender', 'day_1', 'day_2', 'day_3'], dtype='object')\n",
      "\n",
      "3. Missing values (if any): \n",
      " ticket_no      0\n",
      "gender         0\n",
      "day_1          0\n",
      "day_2        546\n",
      "day_3        687\n",
      "dtype: int64\n",
      "\n"
     ]
    }
   ],
   "execution_count": 2
  },
  {
   "metadata": {},
   "cell_type": "markdown",
   "source": "From the output, it seems something going wrong with the column `day_1`. I'm sure I'll check it later. Besides, the column `gender` should be a categorical variable rather than an `int` and should be corrected: "
  },
  {
   "metadata": {
    "ExecuteTime": {
     "end_time": "2024-09-26T08:30:56.551033Z",
     "start_time": "2024-09-26T08:30:56.536871Z"
    }
   },
   "cell_type": "code",
   "source": "df_download['gender'] = df_download['gender'].astype('category')",
   "outputs": [],
   "execution_count": 3
  },
  {
   "metadata": {},
   "cell_type": "markdown",
   "source": [
    "## Question 1\n",
    "> Q1a: What do 1, 2, and 3 mean in variable “gender”?\n",
    "\n",
    "**Answer:** \n",
    "\n",
    "| Code | Label      |\n",
    "|------|------------|\n",
    "| 1    | Male       |\n",
    "| 2    | Female     |\n",
    "| 3    | Non-Binary |\n",
    "\n",
    "**Solution:** \n",
    "\n",
    "I reached the mapping for categorical variables by accessing metadata from the given `sav` file by `pyreadstats`: "
   ]
  },
  {
   "metadata": {
    "ExecuteTime": {
     "end_time": "2024-09-26T08:30:56.581729Z",
     "start_time": "2024-09-26T08:30:56.566719Z"
    }
   },
   "cell_type": "code",
   "source": "print(metadata_download.variable_value_labels)",
   "outputs": [
    {
     "name": "stdout",
     "output_type": "stream",
     "text": [
      "{'gender': {1.0: 'Male', 2.0: 'Female', 3.0: 'Non-binary'}}\n"
     ]
    }
   ],
   "execution_count": 4
  },
  {
   "metadata": {},
   "cell_type": "markdown",
   "source": "*P.S. On another note, considering this is data from a music festival, should I assume that apart from the 90 individuals labeled themselves as ENBY, the terms \"Female\" and \"Male\" in the dataset include both cisgender and transgender individuals?*"
  },
  {
   "metadata": {},
   "cell_type": "markdown",
   "source": [
    "> Q1b: What are their percentages in the sample?\n",
    "\n",
    "**Answer:**\n",
    "\n",
    "| Gender     | Count | Percentage |\n",
    "|------------|-------|------------|\n",
    "| Female     | 443   | 54.69%     |\n",
    "| Male       | 277   | 34.20%     |\n",
    "| Non-Binary | 90    | 11.11%     |\n",
    "\n",
    "**Solution:**"
   ]
  },
  {
   "metadata": {
    "ExecuteTime": {
     "end_time": "2024-09-26T08:30:56.613324Z",
     "start_time": "2024-09-26T08:30:56.598325Z"
    }
   },
   "cell_type": "code",
   "source": [
    "# Calculating the Percentage\n",
    "percentage = df_download['gender'].value_counts(normalize=True) * 100   # For percentage\n",
    "print(percentage)"
   ],
   "outputs": [
    {
     "name": "stdout",
     "output_type": "stream",
     "text": [
      "gender\n",
      "2.0    54.691358\n",
      "1.0    34.197531\n",
      "3.0    11.111111\n",
      "Name: proportion, dtype: float64\n"
     ]
    }
   ],
   "execution_count": 5
  },
  {
   "metadata": {},
   "cell_type": "markdown",
   "source": [
    "### Report the result (in a formal way)\n",
    "\n",
    "And the results of Question 1a and 1b should be reported in a formal way: \n",
    "\n",
    "The total $N$ for ths dataset (for the study) was 810. The sample included the following gender groups: 54.69% male, 34.20% female and 11.11% of non-binary. \n"
   ]
  },
  {
   "metadata": {},
   "cell_type": "markdown",
   "source": [
    "\n",
    "## Question 2\n",
    "> Draw a barplot of “gender” whose 𝑦-axis represents the percentage of each group.\n",
    "\n",
    "**Answer:** \n",
    "\n",
    "See @fig-gender-counts\n",
    "\n",
    "**Solution:**"
   ]
  },
  {
   "metadata": {
    "ExecuteTime": {
     "end_time": "2024-09-26T08:30:56.737630Z",
     "start_time": "2024-09-26T08:30:56.629653Z"
    }
   },
   "cell_type": "code",
   "source": [
    "#| label: fig-gender-counts\n",
    "#| fig-cap: \"Count of Gender\"\n",
    "gender_barplot = sns.barplot(percentage)\n",
    "gender_barplot.set_xticklabels(['Male', 'Female', 'Non-binary'])\n",
    "plt.show()"
   ],
   "outputs": [
    {
     "name": "stderr",
     "output_type": "stream",
     "text": [
      "C:\\Users\\Riko\\AppData\\Local\\Temp\\ipykernel_15292\\2800231647.py:4: UserWarning: set_ticklabels() should only be used with a fixed number of ticks, i.e. after set_ticks() or using a FixedLocator.\n",
      "  gender_barplot.set_xticklabels(['Male', 'Female', 'Non-binary'])\n"
     ]
    },
    {
     "data": {
      "text/plain": [
       "<Figure size 640x480 with 1 Axes>"
      ],
      "image/png": "[encoded data removed]"
     },
     "metadata": {},
     "output_type": "display_data"
    }
   ],
   "execution_count": 6
  },
  {
   "metadata": {},
   "cell_type": "markdown",
   "source": [
    "## Question 3\n",
    "> Draw a histogram of `day_1`. Is there anything wrong with this variable?\n",
    "\n",
    "**Answer:**\n",
    "\n",
    "See @fig-hist-day1. \n",
    "\n",
    "**Solution:**\n",
    "\n",
    "From the EDA and the histogram shown below (see @fig-hist-day1), we can clearly identify an outlier with a \"hygiene score\" significantly higher than the others. Given that the score should range between 0 and 5, this could probability be a typo or some other thing we may have overlooked.\n"
   ]
  },
  {
   "metadata": {
    "ExecuteTime": {
     "end_time": "2024-09-26T08:30:56.924394Z",
     "start_time": "2024-09-26T08:30:56.804877Z"
    }
   },
   "cell_type": "code",
   "source": [
    "#| label: fig-hist-day1\n",
    "#| fig-cap: \"Distribution of Hygiene Score in Day 1\"\n",
    "day1_hist = sns.histplot(df_download['day_1'])\n",
    "plt.show()"
   ],
   "outputs": [
    {
     "data": {
      "text/plain": [
       "<Figure size 640x480 with 1 Axes>"
      ],
      "image/png": "[encoded data removed]"
     },
     "metadata": {},
     "output_type": "display_data"
    }
   ],
   "execution_count": 7
  },
  {
   "metadata": {
    "ExecuteTime": {
     "end_time": "2024-09-26T08:30:56.955881Z",
     "start_time": "2024-09-26T08:30:56.940884Z"
    }
   },
   "cell_type": "code",
   "source": [
    "# Filter out the outlier\n",
    "print(df_download[df_download['day_1'] > 5.0])"
   ],
   "outputs": [
    {
     "name": "stdout",
     "output_type": "stream",
     "text": [
      "     ticket_no gender  day_1  day_2  day_3\n",
      "610     4158.0    2.0  20.02   2.44    NaN\n"
     ]
    }
   ],
   "execution_count": 8
  },
  {
   "metadata": {},
   "cell_type": "markdown",
   "source": [
    "I filtered out this outlier, it's in row number `610`, and it turns out that based on the ranking, this lady was four times cleaner than the cleanest person at the music festival. Hmm… `4x cleaner`? Sounds like something you'd read on a box of laundry pods (see @fig-laundry-pod). Let's call her *Ms. Laundry Pod*.\n",
    "\n",
    "![4x-cleaning-power](./4x-cleaning-power.jpg){#fig-laundry-pod}\n",
    "\n",
    "**I’m just saying this for fun (except the Ms. Laundry Pod part). The hygiene score is an interval variable that we can’t simply multiply or divide the values like what I did.**"
   ]
  },
  {
   "metadata": {},
   "cell_type": "markdown",
   "source": [
    "## Question 4\n",
    "> How many cases have missing values for `day_2`?\n",
    "\n",
    "**Answer:**\n",
    "\n",
    "546 cases have missing values in the column `day_2`. \n",
    "\n",
    "**Solution:**"
   ]
  },
  {
   "metadata": {
    "ExecuteTime": {
     "end_time": "2024-09-26T08:30:56.986470Z",
     "start_time": "2024-09-26T08:30:56.972472Z"
    }
   },
   "cell_type": "code",
   "source": "print(df_download.isnull().sum()['day_2'])",
   "outputs": [
    {
     "name": "stdout",
     "output_type": "stream",
     "text": [
      "546\n"
     ]
    }
   ],
   "execution_count": 9
  },
  {
   "metadata": {},
   "cell_type": "markdown",
   "source": [
    "## Question 5\n",
    "> Excluding the outlier in day 1. \n",
    "\n",
    "**Solution:**\n",
    "\n",
    "Thankfully, there's only one outlier - Ms. Laundry Pod, located at row number `610`. So, for this part, I’ll simply exclude that row and save the remaining data to a new `DataFrame`."
   ]
  },
  {
   "metadata": {
    "ExecuteTime": {
     "end_time": "2024-09-26T08:30:57.017374Z",
     "start_time": "2024-09-26T08:30:57.002362Z"
    }
   },
   "cell_type": "code",
   "source": [
    "df_download_dropped_outlier = df_download.drop(610)\n",
    "# Or I could just enter the danger zone by dropping data on the DataFrame by:  \n",
    "# df_download.drop(610, inplace=True)"
   ],
   "outputs": [],
   "execution_count": 10
  },
  {
   "metadata": {},
   "cell_type": "markdown",
   "source": "Also, I did a double check by plotting the data once more (see @fig-hist-day1-revised). "
  },
  {
   "metadata": {
    "ExecuteTime": {
     "end_time": "2024-09-26T08:30:57.111173Z",
     "start_time": "2024-09-26T08:30:57.033704Z"
    }
   },
   "cell_type": "code",
   "source": [
    "#| label: fig-hist-day1-revised\n",
    "#| fig-cap: \"Distribution of Hygiene Score in Day 1\"\n",
    "# Confirm if I'm in the right track. \n",
    "df_download_dropped_outlier['day_1'].hist()"
   ],
   "outputs": [
    {
     "data": {
      "text/plain": [
       "<Axes: >"
      ]
     },
     "execution_count": 11,
     "metadata": {},
     "output_type": "execute_result"
    },
    {
     "data": {
      "text/plain": [
       "<Figure size 640x480 with 1 Axes>"
      ],
      "image/png": "[encoded data removed]"
     },
     "metadata": {},
     "output_type": "display_data"
    }
   ],
   "execution_count": 11
  },
  {
   "metadata": {},
   "cell_type": "markdown",
   "source": "[EOF]"
  }
 ],
 "metadata": {
  "language_info": {
   "name": "python"
  },
  "kernelspec": {
   "name": "python3",
   "language": "python",
   "display_name": "Python 3 (ipykernel)"
  }
 },
 "nbformat": 4,
 "nbformat_minor": 2
}
