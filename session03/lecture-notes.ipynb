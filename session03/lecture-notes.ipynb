{
 "cells": [
  {
   "cell_type": "markdown",
   "metadata": {},
   "source": [
    "---\n",
    "title: \"Session 03: Descriptive Statistics\"\n",
    "---"
   ]
  },
  {
   "cell_type": "markdown",
   "metadata": {},
   "source": [
    "## Summary\n",
    "- preliminary data screening\n",
    "- choosing appropriate descriptive statistics based on data distribution\n",
    "- thoroughly reporting statistical findings, e.g.: \n",
    "    - data cleaning\n",
    "    - outlier handling procedures\n"
   ]
  },
  {
   "cell_type": "markdown",
   "metadata": {},
   "source": [
    "## Why doing descriptive statistics?\n",
    "Screening:  \n",
    "- missing data\n",
    "- unusually values\n",
    "- too small groups\n",
    "- mistakes - e.g. impossible values\n",
    "\n",
    "Then: \n",
    "correct them or drop them"
   ]
  },
  {
   "cell_type": "markdown",
   "metadata": {},
   "source": [
    "## Frequency Distributions\n",
    "- Used for preliminary data screening\n",
    "- Frequency tables for categorical variables\n",
    "- Histograms for continuous variables"
   ]
  },
  {
   "cell_type": "code",
   "execution_count": 7,
   "metadata": {},
   "outputs": [],
   "source": [
    "# |echo: off\n",
    "import pandas as pd\n",
    "from scipy import stats\n",
    "import seaborn as sns"
   ]
  },
  {
   "cell_type": "code",
   "execution_count": 2,
   "metadata": {},
   "outputs": [
    {
     "data": {
      "text/plain": [
       "Index(['sex', 'hr', 'temp_Fahrenheit', 'temp_Celcius', 'Likert_rating'], dtype='object')"
      ]
     },
     "execution_count": 2,
     "metadata": {},
     "output_type": "execute_result"
    }
   ],
   "source": [
    "temphr10 = pd.read_spss('./datasets/temphr10.sav')\n",
    "temphr10.columns"
   ]
  },
  {
   "cell_type": "code",
   "execution_count": 4,
   "metadata": {},
   "outputs": [
    {
     "data": {
      "text/plain": [
       "sex\n",
       "Male      7\n",
       "Female    3\n",
       "Name: count, dtype: int64"
      ]
     },
     "execution_count": 4,
     "metadata": {},
     "output_type": "execute_result"
    }
   ],
   "source": [
    "# Frequency Tables for Categorical Variables (slides p.6)\n",
    "temphr10['sex'].value_counts()"
   ]
  },
  {
   "cell_type": "code",
   "execution_count": 6,
   "metadata": {},
   "outputs": [
    {
     "data": {
      "text/plain": [
       "Index(['casenumber', 'haircolor', 'newgrouphaircolor'], dtype='object')"
      ]
     },
     "execution_count": 6,
     "metadata": {},
     "output_type": "execute_result"
    }
   ],
   "source": [
    "# Filtering missing data with haircolor dataset (p. 6)\n",
    "haircolor = pd.read_spss('./datasets/haircolor.sav')\n",
    "haircolor.columns"
   ]
  },
  {
   "cell_type": "code",
   "execution_count": 49,
   "metadata": {},
   "outputs": [
    {
     "data": {
      "text/plain": [
       "casenumber           0\n",
       "haircolor            4\n",
       "newgrouphaircolor    5\n",
       "dtype: int64"
      ]
     },
     "execution_count": 49,
     "metadata": {},
     "output_type": "execute_result"
    }
   ],
   "source": [
    "# To count missing value, use sum() and isnull(). \n",
    "haircolor.isnull().sum()"
   ]
  },
  {
   "cell_type": "code",
   "execution_count": 48,
   "metadata": {},
   "outputs": [
    {
     "data": {
      "text/plain": [
       "casenumber           0\n",
       "haircolor            4\n",
       "newgrouphaircolor    5\n",
       "dtype: int64"
      ]
     },
     "execution_count": 48,
     "metadata": {},
     "output_type": "execute_result"
    }
   ],
   "source": []
  },
  {
   "cell_type": "markdown",
   "metadata": {},
   "source": [
    "> The total $N$ for the study was 50. The sample included these hair color groups: 32% brown, 24% black, 16% blond, 6% red, 6% gray, 4% pink, 2% blue, 2% out‐of‐range scores, and 8% missing values."
   ]
  },
  {
   "cell_type": "markdown",
   "metadata": {},
   "source": []
  },
  {
   "cell_type": "markdown",
   "metadata": {},
   "source": [
    "## Central Tendency Measures\n",
    "- Mode: Most frequent value\n",
    "- Median: Middle value\n",
    "- Mean: \n",
    "  $$M = \\bar{X} = \\frac{\\sum_{i=1}^N X_i}{N}$$"
   ]
  },
  {
   "cell_type": "markdown",
   "metadata": {},
   "source": [
    "## Variability/Dispersion Measures\n",
    "- Range: Max - Min\n",
    "- Interquartile Range (IQR): Q3 - Q1\n",
    "- Variance: \n",
    "  $$s^2 = \\frac{\\sum_{i=1}^N (X_i - M)^2}{N - 1}$$\n",
    "- Standard Deviation: \n",
    "  $$s = \\sqrt{s^2}$$"
   ]
  },
  {
   "cell_type": "code",
   "execution_count": 9,
   "metadata": {},
   "outputs": [
    {
     "data": {
      "text/plain": [
       "Index(['idnumber', 'Sex', 'Weight', 'height', 'BMI'], dtype='object')"
      ]
     },
     "execution_count": 9,
     "metadata": {},
     "output_type": "execute_result"
    }
   ],
   "source": [
    "# BMI dataset and the boxplot\n",
    "bmi = pd.read_spss('./datasets/bmi.sav')\n",
    "bmi.columns"
   ]
  },
  {
   "cell_type": "code",
   "execution_count": 36,
   "metadata": {},
   "outputs": [
    {
     "data": {
      "text/plain": [
       "<Axes: xlabel='Sex', ylabel='BMI'>"
      ]
     },
     "execution_count": 36,
     "metadata": {},
     "output_type": "execute_result"
    },
    {
     "data": {
      "image/png": "[encoded data removed]",
      "text/plain": [
       "<Figure size 640x480 with 1 Axes>"
      ]
     },
     "metadata": {},
     "output_type": "display_data"
    }
   ],
   "source": [
    "sns.boxplot(data=bmi, x='Sex', y='BMI')"
   ]
  },
  {
   "cell_type": "markdown",
   "metadata": {},
   "source": [
    "## Z-scores\n",
    "$$z = \\frac{X - M}{SD}$$"
   ]
  },
  {
   "cell_type": "markdown",
   "metadata": {},
   "source": []
  },
  {
   "cell_type": "markdown",
   "metadata": {},
   "source": [
    "\n",
    "## 5. Normal Distribution\n",
    "- Bell-shaped curve\n",
    "- 68-95-99.7 rule for standard deviations\n",
    "\n",
    "## 6. Skewness and Kurtosis\n",
    "- Measures of distribution shape\n",
    "- Skewness: \n",
    "  $$\\frac{1}{N} \\sum(\\frac{X - M}{SD})^3$$\n",
    "- Kurtosis: \n",
    "  $$\\frac{1}{N} \\sum(\\frac{X - M}{SD})^4$$\n",
    "\n",
    "## 7. Assessing Normality\n",
    "- Histograms with normal curve\n",
    "- Q-Q plots\n",
    "\n",
    "## 8. Outliers\n",
    "- Often defined as |z| > 3.29\n",
    "\n",
    "## 9. Reporting Descriptive Statistics\n",
    "- Include sample size, measures of central tendency, and dispersion\n",
    "- Describe distribution shape and presence of outliers\n",
    "- Use appropriate visualizations (histograms, boxplots)"
   ]
  }
 ],
 "metadata": {
  "kernelspec": {
   "display_name": "educ8009",
   "language": "python",
   "name": "python3"
  },
  "language_info": {
   "codemirror_mode": {
    "name": "ipython",
    "version": 3
   },
   "file_extension": ".py",
   "mimetype": "text/x-python",
   "name": "python",
   "nbconvert_exporter": "python",
   "pygments_lexer": "ipython3",
   "version": "3.10.14"
  }
 },
 "nbformat": 4,
 "nbformat_minor": 2
}
