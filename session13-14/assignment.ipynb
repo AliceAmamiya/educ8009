{
 "cells": [
  {
   "cell_type": "code",
   "execution_count": null,
   "metadata": {
    "vscode": {
     "languageId": "plaintext"
    }
   },
   "outputs": [],
   "source": [
    "---\n",
    "title: \"Laboratory 07\"\n",
    "format:\n",
    "    html: \n",
    "        code-line-numbers: true\n",
    "    pdf:\n",
    "        documentclass: article\n",
    "        margin-left: 1in\n",
    "        margin-right: 1in\n",
    "        margin-top: 1in\n",
    "        margin-bottom: 1in\n",
    "        papersize: a4\n",
    "        toc: true\n",
    "        number-sections: true\n",
    "        code-line-numbers: true\n",
    "        header-includes:\n",
    "            - \\usepackage{fvextra}\n",
    "            - \\DefineVerbatimEnvironment{Highlighting}{Verbatim}{breaklines,commandchars=\\\\\\{\\}}\n",
    "---"
   ]
  },
  {
   "cell_type": "markdown",
   "metadata": {
    "vscode": {
     "languageId": "plaintext"
    }
   },
   "source": [
    "Finally I noticed something on the requirement of all lab assignments I have ignored from the very beginning: \n",
    "\n",
    "> You are **NOT** required to show all the codes or the raw output of statistical software. You only need to answer the questions.\n",
    "\n",
    "I therefore turned `echo` for few code block to `false`. The long and annoying code must be interruptive while reading. \n",
    "\n",
    "\n",
    "# Quick reply on the feedback of Lab 6\n",
    "\n",
    "\n",
    "\n"
   ]
  },
  {
   "cell_type": "markdown",
   "metadata": {},
   "source": [
    "# Dataset 1: Tea vs Cognitive function\n",
    "\n",
    "## Context\n",
    "In Laboratory 5 we analyzed tea.sav, which contains cognitive function scores of participants who consumed varying amounts of tea every day. Now we hope to study whether there is a difference in cognitive function scores between individuals who do not drink tea and those who drink two cups of tea per day.\n",
    "\n",
    "## Objectives \n",
    "1. Do you think the independent-samples $t$-test is a good choice? Why or why not?\n",
    "2. Conduct an independent-samples $t$-test. Write a short paragraph that summarizes and interprets the results of the test.\n",
    "\n",
    "## Solutions"
   ]
  },
  {
   "cell_type": "code",
   "execution_count": null,
   "metadata": {},
   "outputs": [],
   "source": [
    "#| echo: false\n",
    "import pandas as pd\n",
    "\n",
    "download_df = pd.read_spss('./datasets/download.csv')\n",
    "tea_df = pd.read_spss('./tea.csv')"
   ]
  },
  {
   "cell_type": "markdown",
   "metadata": {},
   "source": [
    "## Q1: Why independent-sample $t$-test? \n",
    "\n",
    "Based on the assumption of independent-sample t-test and the distribution of the dataset, It may be a good choice for the following reason: \n",
    "\n",
    "1. normality & homogeneity of variance\n",
    "2. The dependent variable (cognitive function scores) is continuous\n",
    "3. We're comparing two specific groups (no tea vs. two cups/day)\n",
    "4. Each participant is in only one group (independent observations)"
   ]
  },
  {
   "cell_type": "markdown",
   "metadata": {},
   "source": [
    "download_df.describe()"
   ]
  },
  {
   "cell_type": "markdown",
   "metadata": {},
   "source": [
    "\n",
    "## Q2: Interpret the independent-sample $t$-test result. \n"
   ]
  },
  {
   "cell_type": "markdown",
   "metadata": {
    "vscode": {
     "languageId": "plaintext"
    }
   },
   "source": [
    "# Dataset 2: Download Music Festival\n",
    "\n",
    "## Context\n",
    "In Laboratory 1 we analyzed download.sav, which contains hygiene scores of concert goers over three days of a rock music festival. Now we hope to study the relationship between hygiene scores on days 2 and 3.\n",
    "\n",
    "## Objectives\n",
    "3. Is the correlation coefficient an appropriate measure of the relationship between hygiene scores on days 2 and 3? Why or why not?\n",
    "4. Conduct a paired-samples 𝑡 test. Write a short paragraph that summarizes and interprets the results of the test.\n",
    "\n",
    "## Solutions\n",
    "\n",
    "### Q3: Is correlation coefficient appropriate\n",
    "\n",
    "### Q4: Interpret the paired-sample $t$-test result\n"
   ]
  }
 ],
 "metadata": {
  "language_info": {
   "name": "python"
  }
 },
 "nbformat": 4,
 "nbformat_minor": 2
}
