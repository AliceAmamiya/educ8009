{
 "cells": [
  {
   "cell_type": "markdown",
   "id": "initial_id",
   "metadata": {
    "collapsed": true
   },
   "source": [
    "---\n",
    "title: \"Section 02: Concepts\"\n",
    "---"
   ]
  },
  {
   "cell_type": "markdown",
   "id": "f185f40ca8fdf9e8",
   "metadata": {},
   "source": [
    "## Summary\n",
    "- Brief review on:\n",
    "    - import data on SPSS\n",
    "    - types of variable (i.e. measurement) in SPSS. \n",
    "    - SPSS syntax - a \"code-like\" thing to replicate what we have done\n",
    "- Research Questions and Design: showed general concepts *future scholars* must learn before (~~otherwise how could they get into the graduate school~~)"
   ]
  },
  {
   "cell_type": "markdown",
   "id": "20e84471a6cb3cee",
   "metadata": {},
   "source": [
    "## Research Questions\n",
    "### Variables and causal relationships\n",
    "- the X-axis and Y-axis - assuming $X$ will affect $Y$\n",
    "  - $X$ => Independent var\n",
    "      - $Y$ => Dependent var\n",
    "- are $X$ and $Y$ correlated or associated? \n",
    "- does $X$ predict $Y$? \n",
    "- does $X$ ***cause/determine/influence*** $Y$? \n",
    "      - strong evidence needed\n",
    "\n",
    "#### Confounding\n",
    "- associated with the $X$ that cause or influence $Y$\n",
    "- may cause false association\n",
    "- e.g. ice cream sales vs drowning incidents\n",
    "  - affected by **confounder** - temperature - another variable makes $X$ and $Y$ correlated. \n",
    "- e.g. age vs wages\n",
    "  - age - associated with experience + wages\n",
    "- Controls: \n",
    "  - Experimental\n",
    "  - Statistical\n",
    "\n",
    "#### Mediation\n",
    "- e.g. wages - male vs female\n",
    "  - from average wages: yes they are correlated. \n",
    "  - but: does it imply discrimination? \n",
    "  - look deeper: *control of occupations*\n",
    "- **Simpson's paradox**\n",
    "  - gender --*occupation*--> wages\n",
    "\n",
    "### Addressing causal inferences\n",
    "1. Theory\n",
    "2. Statistically related\n",
    "3. Time: $X$ happens earlier\n",
    "4. The causal inferences: proof no rival explanations for the changes of $Y$. \n",
    "\n",
    "(Brannon et al., 2017; Cozby & Bates, 2017)"
   ]
  },
  {
   "cell_type": "markdown",
   "id": "bf79444b",
   "metadata": {},
   "source": [
    "## Research Design\n",
    "\n",
    "### Experiment\n",
    "- grouping and control\n",
    "- control group vs treatment group\n",
    "- randomized, standardized, clear-defined dependent variable\n",
    "- RCT - Randomized controlled trial: cost, ethic, **external validity**\n",
    "\n",
    "### Non-experiment\n",
    "- correlational research: e.g. questionnaires\n",
    "- cost: generally **doesn't lead to causality\"\n",
    "  - temporal precedence + confounding\n",
    "  - **correlations $\\neq$ causation**\n",
    "\n",
    "### Quasi-experiment\n",
    "- use pre-existing groups - **Nonequivalent control group**\n",
    "  - e.g. free lunch in school 1 but not in school 2\n",
    "  - confounding my exists\n",
    "- use data before and after the intervention - **One-group pretest-post-test design**\n",
    "  - e.g. maturation\n",
    "\n",
    "### Comparison of designs\n",
    "- internal validity vs external validity\n",
    "- trade-offs\n",
    "\n",
    "## Populations and Samples\n",
    "\n"
   ]
  },
  {
   "cell_type": "markdown",
   "id": "0a4ae717",
   "metadata": {},
   "source": []
  },
  {
   "cell_type": "code",
   "execution_count": null,
   "id": "527426bb054f6b6d",
   "metadata": {},
   "outputs": [],
   "source": [
    "#| echo: false\n",
    "import pandas as pd"
   ]
  },
  {
   "cell_type": "code",
   "execution_count": null,
   "id": "6d72a2427120f0af",
   "metadata": {},
   "outputs": [],
   "source": []
  }
 ],
 "metadata": {
  "kernelspec": {
   "display_name": "Python 3",
   "language": "python",
   "name": "python3"
  },
  "language_info": {
   "codemirror_mode": {
    "name": "ipython",
    "version": 2
   },
   "file_extension": ".py",
   "mimetype": "text/x-python",
   "name": "python",
   "nbconvert_exporter": "python",
   "pygments_lexer": "ipython2",
   "version": "2.7.6"
  }
 },
 "nbformat": 4,
 "nbformat_minor": 5
}
