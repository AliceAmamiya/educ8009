{
 "cells": [
  {
   "cell_type": "raw",
   "metadata": {
    "vscode": {
     "languageId": "raw"
    }
   },
   "source": [
    "---\n",
    "title: \"Laboratory 03\"\n",
    "format:\n",
    "    html: \n",
    "        code-line-numbers: true\n",
    "    pdf:\n",
    "        margin: 0.5in\n",
    "        papersize: a4\n",
    "        toc: true\n",
    "        number-sections: true\n",
    "        code-line-numbers: true\n",
    "        mainfont: Noto Serif\n",
    "        header-includes:\n",
    "            - \\usepackage{fvextra}\n",
    "            - \\DefineVerbatimEnvironment{Highlighting}{Verbatim}{breaklines,commandchars=\\\\\\{\\}}\n",
    "---"
   ]
  },
  {
   "cell_type": "markdown",
   "metadata": {
    "vscode": {
     "languageId": "raw"
    }
   },
   "source": [
    "# Reply on the feedback of Lab 2\n",
    "\n",
    "Thanks for the feedback on my Lab 2 Assignment! Here's my response: \n",
    "\n",
    "## *Normally* on Line 4, Section 3.2 Question 2, Page 5\n",
    "\n",
    "> \"normally\" have higher median?\n",
    "\n",
    "What I mean is that based on the sample and the box-plot, we can generally infer that \"cat people tend to have a higher life satisfaction score\" than fish owners.\n",
    "\n",
    "Apologies for the earlier miswording and ambiguity in the interpretation.\n",
    "\n",
    "## About the cats\n",
    "\n",
    "They usually come out in the early morning and late at night, as cats *normally* do. However, they are all around at various times. I even once witnessed the police and firefighters at our faculty, rescuing a young cat trapped on the roof!"
   ]
  },
  {
   "cell_type": "markdown",
   "metadata": {},
   "source": [
    "# Main scenario story (Context)\n",
    "\n",
    "![Warning - Health and Safety](./health-safety.jpg)\n",
    "\n",
    "There are reports of increases in injuries related to playing games consoles. These injuries were attributed mainly to muscle and tendon strains. A researcher collected data from 120 participants who played on a Nintendo Switch or watched others playing. The outcome was a pain score from 0 to 10, where 0 is no pain and 10 is severe pain. The data are in `switch.sav`."
   ]
  },
  {
   "cell_type": "markdown",
   "metadata": {},
   "source": [
    "# Main scenario quests (Objectives)\n",
    "1. Describe the distribution of the pain scores. Do you think the one-sample $𝑡$ test is suitable for this variable?\n",
    "2. A pain score of 2 is considered as minor pain. Test whether the mean pain score is equal to 2 (two tailed, 5% level) and obtain the corresponding effect size.\n",
    "3. Obtain a 95% confidence interval for the mean pain score.\n",
    "4. Summary your findings from the previous questions in several sentences.\n",
    "5. (Extra credit) Obtain a 95% confidence interval for the mean pain score of those who played on a Nintendo Switch. That is, exclude those who only watched others playing. (Hint: You learned how to exclude cases in Laboratory Assignment 1.)"
   ]
  },
  {
   "cell_type": "markdown",
   "metadata": {},
   "source": [
    "# Solutions\n",
    "\n",
    "## A peek on the dataset\n",
    "As usual, I load modules that I may need in this laboratory assignment, then the dataset to my RAM and check attributes of the given dataset. "
   ]
  },
  {
   "cell_type": "code",
   "execution_count": 14,
   "metadata": {},
   "outputs": [],
   "source": [
    "import pandas as pd\n",
    "\n",
    "# Load the dataset\n",
    "switch = pd.read_spss('./datasets/switch.sav')"
   ]
  },
  {
   "cell_type": "code",
   "execution_count": 15,
   "metadata": {},
   "outputs": [
    {
     "name": "stdout",
     "output_type": "stream",
     "text": [
      "Shape: \n",
      " (120, 5) \n",
      "\n",
      "Columns: \n",
      " Index(['id', 'athlete', 'stretch', 'switch', 'injury'], dtype='object') \n",
      "\n",
      "First 5 rows: \n",
      "     id  athlete     stretch          switch  injury\n",
      "0  ytv  Athlete  Stretching  Playing switch     2.0\n",
      "1  wel  Athlete  Stretching  Playing switch     2.0\n",
      "2  qfs  Athlete  Stretching  Playing switch     1.0\n",
      "3  oln  Athlete  Stretching  Playing switch     2.0\n",
      "4  wxi  Athlete  Stretching  Playing switch     0.0 \n",
      "\n",
      "Describe the column `injury`: \n",
      "            injury\n",
      "count  120.000000\n",
      "mean     2.891667\n",
      "std      1.994934\n",
      "min      0.000000\n",
      "25%      2.000000\n",
      "50%      2.000000\n",
      "75%      4.000000\n",
      "max     10.000000 \n",
      "\n"
     ]
    }
   ],
   "source": [
    "# Descriptions\n",
    "print(f'Shape: \\n', switch.shape, '\\n')\n",
    "print(f'Columns: \\n', switch.columns, '\\n')\n",
    "print(f'First 5 rows: \\n', switch.head(5), '\\n')\n",
    "print(f'Describe the column `injury`: \\n', switch.describe(), '\\n')"
   ]
  },
  {
   "cell_type": "markdown",
   "metadata": {},
   "source": [
    "## Q1: Distribution of the pain scores\n",
    "\n",
    "###  Q1a: Describe the distribution\n",
    "\n",
    "**Answer**\n",
    "\n",
    "To describe the distribution of the pain scores, I use histogram with a kernel density estimation curve as shown in @fig-injury-histogram as well as measurements (mean, mode and median) reflect central tendency (see @tbl-centrality). \n",
    "\n",
    "|Measurement|Value|\n",
    "|-----------|-----|\n",
    "| Mode      | 2.00|\n",
    "| Mean      | 2.89|\n",
    "| Median    | 2.00|\n",
    "\n",
    ": Mean, mode and median {#tbl-centrality}\n",
    "\n",
    "\n",
    "According to the graph: \n",
    "\n",
    "1. Most of the observations are clustered around the lower pain scores (between 1 and 4), we can say that the distribution of pain scores is positively skewed rather than a perfect normal distribution. \n",
    "2. There is a noticeable peak at a score of 2, which means the most frequent score is around 2.\n",
    "3. A long tail extends to the higher scores, indicating the frequency of pain scores gradually decreases as the scores increase.\n",
    "\n",
    "\n",
    "**Solution**\n"
   ]
  },
  {
   "cell_type": "code",
   "execution_count": 16,
   "metadata": {},
   "outputs": [
    {
     "name": "stdout",
     "output_type": "stream",
     "text": [
      "Central Tendency: \n",
      "\n",
      "Mean:  2.8916666666666666\n",
      "Mode:  2.0\n",
      "Median:  2.0\n"
     ]
    }
   ],
   "source": [
    "injury = switch['injury']\n",
    "\n",
    "# Calculate measurements of central tendency\n",
    "injury_mean = injury.mean()\n",
    "injury_mode = injury.mode()[0]\n",
    "injury_median = injury.median()\n",
    "\n",
    "# Tell the result\n",
    "print(f'Central Tendency: \\n')\n",
    "print(f'Mean: ', injury_mean)\n",
    "print(f'Mode: ', injury_mode)\n",
    "print(f'Median: ', injury_median)"
   ]
  },
  {
   "cell_type": "code",
   "execution_count": 17,
   "metadata": {},
   "outputs": [
    {
     "data": {
      "image/png": "[encoded data removed]",
      "text/plain": [
       "<Figure size 640x480 with 1 Axes>"
      ]
     },
     "metadata": {},
     "output_type": "display_data"
    }
   ],
   "source": [
    "#| label: fig-injury-histogram\n",
    "#| fig-cap: Distribution of the pain scores\n",
    "\n",
    "import matplotlib.pyplot as plt\n",
    "import seaborn as sns\n",
    "\n",
    "# Plot the histogram\n",
    "injury_hist = sns.histplot(switch, x='injury', stat='count', bins=10 ,kde=True)\n",
    "# Dashed line for Mean, Median and Mode\n",
    "injury_hist.axvline(injury_mean, color='blue', linestyle='--', linewidth=1)\n",
    "injury_hist.axvline(injury_median, color='red', linestyle='--', linewidth=1)\n",
    "# Set title and labels\n",
    "injury_hist.set_title('Distribution of the pain scores')\n",
    "injury_hist.set_xlabel('Pain score (out of 10)')\n",
    "# Show the plot\n",
    "plt.show()"
   ]
  },
  {
   "cell_type": "markdown",
   "metadata": {},
   "source": [
    "\n",
    "### Q1b: One-sample $𝑡$ test on this variable\n",
    "\n",
    "**Answer**\n",
    "\n",
    "Recall back the the slides in the lecture notes: \n",
    "\n",
    "> One‐sample $t$ test requires that: \n",
    "> \n",
    ">  - Sample mean describes central tendency. \n",
    "\n",
    "The sample mean is slightly higher than the mode and median (see @tbl-centrality and @fig-injury-histogram, red dashed lines for the median and mode, blue for the mean) since the data is right-skewed. However, they are fairly close to each other, so the sample mean can still represent central tendency.\n",
    "\n",
    ">  - Scores in the sample are randomly selected from the population\n",
    "\n",
    "According to the description, the data was \"collected from 120 participants who played on a Nintendo Switch or watched others playing.\" For the sake of this assignment, I will assume that the participants were randomly selected from patients worldwide to fulfill the random sampling assumption.\n",
    "\n",
    ">  - Either $N$ is large or $X$ follows a normal distribution\n",
    "\n",
    "Given the right-skewed distribution as seen in @fig-injury-histogram, the data may violate the assumption of normality required for the one-sample $t$-test. However, the *Central Limit Theorem* suggests that if the sample size is large (typically $N > 30$), the sampling distribution of the sample mean tends to approach normality. Therefore, despite the skewed distribution, the sample size ($N = 120$) makes the one-sample $t$-test acceptable in this case.\n",
    "\n",
    "Additionally, question 2 specifically asks for a one-sample $t$-test without requiring further preprocessing of data (e.g., a log transformation), which further supports the applicability of the one-sample $t$-test to this data. If the data were unusable, there would be no reason to include the following questions.\n",
    "\n",
    "In conclusion, a one-sample $t$-test is suitable for this dataset."
   ]
  },
  {
   "cell_type": "markdown",
   "metadata": {},
   "source": [
    "## Q2: Mean of pain score tested\n",
    "\n",
    "**Answer**\n",
    "\n",
    "1. $p$ value\n",
    "\n",
    "    $p \\approx 3.11 \\times 10^{-6}$\n",
    "\n",
    "    At a 5% significance level ($\\alpha = 0.05$), $p < 0.001$, we reject the null hypothesis. The mean pain score is significantly different from 2 (a minor pain) at the 5% level.\n",
    "\n",
    "2. The Cohen's $d$ value\n",
    "\n",
    "    $d \\approx 0.45$\n",
    "\n",
    "    The Cohen's $d$ value indicates a medium effect. This suggests that the difference between the mean pain score ($M = 2.89$) and the a minor pain ($\\mu_{hyp} = 2$) is meaningful in practical terms.\n",
    "\n",
    "**Solution**\n",
    "\n",
    "Given $N = 120$, $M \\approx 2.89$, $SD \\approx 1.99$, $\\mu_{hyp} = 2$, the standard error $SE_M$ is: \n",
    "\n",
    "$$\n",
    "SE_M = \\frac{SD}{\\sqrt{N}} \\approx 0.18\n",
    "$$"
   ]
  },
  {
   "cell_type": "code",
   "execution_count": 18,
   "metadata": {},
   "outputs": [
    {
     "name": "stdout",
     "output_type": "stream",
     "text": [
      "Standard Error Mean:  0.1821117309227567\n"
     ]
    }
   ],
   "source": [
    "from math import sqrt\n",
    "\n",
    "# Standard Error Mean\n",
    "# Note: I can use injury.sem() directly to get the result, \n",
    "# but I shall calculate by my own for this assignment. \n",
    "\n",
    "injury_sem = injury.std(ddof=1) / sqrt(120)\n",
    "print(f'Standard Error Mean: ', injury_sem)"
   ]
  },
  {
   "cell_type": "markdown",
   "metadata": {},
   "source": [
    "\n",
    "With $SE_M \\approx 0.18$, the $t$ ratio is: \n",
    "\n",
    "$$\n",
    "t = \\frac{M - \\mu_{hyp}}{SE_{M}} \\approx 4.90\n",
    "$$"
   ]
  },
  {
   "cell_type": "code",
   "execution_count": 19,
   "metadata": {},
   "outputs": [
    {
     "name": "stdout",
     "output_type": "stream",
     "text": [
      "t:  4.8962615540943375\n"
     ]
    }
   ],
   "source": [
    "# t statistic\n",
    "injury_t = (injury.mean() - 2) / injury.sem()\n",
    "print(f't: ', injury_t)"
   ]
  },
  {
   "cell_type": "markdown",
   "metadata": {},
   "source": [
    "Unfortunately, I can't calculate the $p$-value on hand, so in this part I'll call `scipy.stats.t` for help. the degree of freedom ($df$) is: \n",
    "\n",
    "$$\n",
    "df = N - 1 = 120 - 1 = 119\n",
    "$$\n",
    "\n",
    "With $t \\approx 4.90$ and $df = 119$, then use survivor function to reach the $p$-value: \n",
    "$$\n",
    "p \\approx 3.11 \\times 10^{-6}\n",
    "$$"
   ]
  },
  {
   "cell_type": "code",
   "execution_count": 20,
   "metadata": {},
   "outputs": [
    {
     "name": "stdout",
     "output_type": "stream",
     "text": [
      "p:  3.1051091723547962e-06\n"
     ]
    }
   ],
   "source": [
    "import scipy.stats as stats\n",
    "\n",
    "# 119 is the degree of freedom; Two-sided times two\n",
    "injury_p = stats.t.sf(injury_t, 119 ) * 2\n",
    "\n",
    "print(f'p: ', injury_p)"
   ]
  },
  {
   "cell_type": "markdown",
   "metadata": {},
   "source": [
    "The $p$-value is much smaller than 0.001 ($p < 0.001$), the null hypothesis should be rejected.\n",
    "\n",
    "I also did a sanity check with the ready-to-use function `scipy.stats.ttest_1samp`: "
   ]
  },
  {
   "cell_type": "code",
   "execution_count": 21,
   "metadata": {},
   "outputs": [
    {
     "name": "stdout",
     "output_type": "stream",
     "text": [
      "t:  4.8962615540943375 \n",
      "df:  119 \n",
      "p-value:  3.1051091723547962e-06\n"
     ]
    }
   ],
   "source": [
    "# A san-check on my calculation result: \n",
    "\n",
    "injury_ttest_1samp = stats.ttest_1samp(injury, 2, alternative='two-sided')\n",
    "\n",
    "print(f't: ', injury_ttest_1samp.statistic, '\\n'\n",
    "      'df: ', injury_ttest_1samp.df, '\\n'\n",
    "      'p-value: ', injury_ttest_1samp.pvalue)"
   ]
  },
  {
   "cell_type": "markdown",
   "metadata": {},
   "source": [
    "The Cohen's d value is: \n",
    "\n",
    "$$\n",
    "d = \\frac{M - \\mu_{hyp}}{SD} = \\frac{t}{\\sqrt{N}} \\approx 0.45\n",
    "$$"
   ]
  },
  {
   "cell_type": "code",
   "execution_count": 22,
   "metadata": {},
   "outputs": [
    {
     "name": "stdout",
     "output_type": "stream",
     "text": [
      "Cohen's d: 0.4469654834371283\n"
     ]
    }
   ],
   "source": [
    "# Effect Size d\n",
    "\n",
    "injury_d = injury_t / sqrt(120)\n",
    "print(f'Cohen\\'s d:', injury_d)"
   ]
  },
  {
   "cell_type": "markdown",
   "metadata": {},
   "source": [
    "## Q3: 95% confidence interval for the mean pain score: \n",
    "\n",
    "**Answer**\n",
    "\n",
    "Based on the sample of $N = 120$ pain scores, with $M \\approx 2.89$ and $SD \\approx 1.99$, the 95% CI for pain scores is $[2.53, 3.24]$.\n",
    "\n",
    "**Solution**\n",
    "\n",
    "Given $c = 1.96$ for a 95% confidence interval and $SE_M \\approx 0.18$ as calculated in the last section, a 95% confidence interval of the mean pain score is: \n",
    "\n",
    "$$\n",
    "[M - c \\times SE_M, M + c \\times SE_M] \\approx [2.53, 3.25]\n",
    "$$"
   ]
  },
  {
   "cell_type": "code",
   "execution_count": 23,
   "metadata": {},
   "outputs": [
    {
     "name": "stdout",
     "output_type": "stream",
     "text": [
      "CI (Lower):  2.53106725077079\n",
      "CI (Upper):  3.252266082562543\n",
      "[2.53106725077079, 3.252266082562543]\n"
     ]
    }
   ],
   "source": [
    "# CI for two-tailed t-statistics\n",
    "def confidence_interval(alpha, mean, sem, df): \n",
    "    c = stats.t.interval(1 - alpha, df)[1]\n",
    "    ci_upper = mean + (c * sem)\n",
    "    ci_lower = mean - (c * sem)\n",
    "    print(f'CI (Lower): ', ci_lower)\n",
    "    print(f'CI (Upper): ', ci_upper)\n",
    "    return str(f'[{ci_lower}, {ci_upper}]')\n",
    "\n",
    "injury_ci = confidence_interval(0.05, injury_mean, injury_sem, 119)\n",
    "print(injury_ci)"
   ]
  },
  {
   "cell_type": "markdown",
   "metadata": {},
   "source": [
    "## Q4: Summarizing the findings\n",
    "\n",
    "**Answer**\n",
    "\n",
    "A one‐sample $t$-test is conducted to reveal whether mean pain score for a sample of $N = 120$ patients differed from the minor pain with a score of 2. For this example, $M = 2.89$, $SD = 1.99$ and $SE_M = 0.18$. The 95% CI for $M$ was $[2.53, 3.25]$. The result was $t(119) = 4.90$, %p = 3.11 \\times 10^-6$, two tailed. The effect size is $d = 0.45$ by Cohen’s standards, which represents a medium effect. The difference between the sample mean ($M = 2.89$) and the score of minor pain (2) is statistically significant using $\\alpha = 0.05$, two tailed."
   ]
  },
  {
   "cell_type": "markdown",
   "metadata": {},
   "source": [
    "## Q5: 95% confidence interval for Switch players\n",
    "\n",
    "**Answer**\n",
    "\n",
    "The 95% confidence interval for the mean pain score of those who played on a Nintendo Switch is $[3.14, 4.33]$. \n",
    "\n",
    "\n",
    "**Solution**\n",
    "\n",
    "1. Check the structure of column `switch` then apply the filtering: "
   ]
  },
  {
   "cell_type": "code",
   "execution_count": 24,
   "metadata": {},
   "outputs": [
    {
     "name": "stdout",
     "output_type": "stream",
     "text": [
      "Variables in the column switch: \n",
      " switch\n",
      "Playing switch     60\n",
      "Watching switch    60\n",
      "Name: count, dtype: int64\n",
      "Filtered data: \n",
      " count    60.000000\n",
      "mean      3.733333\n",
      "std       2.313312\n",
      "min       0.000000\n",
      "25%       2.000000\n",
      "50%       3.500000\n",
      "75%       5.000000\n",
      "max      10.000000\n",
      "Name: injury, dtype: float64\n"
     ]
    }
   ],
   "source": [
    "# Check how many people get injured while playing\n",
    "print(f'Variables in the column switch: \\n', switch['switch'].value_counts())\n",
    "# Filter out all switch players\n",
    "injury_ns = switch[switch['switch'] == 'Playing switch']['injury']\n",
    "# And a sanity check\n",
    "print(f'Filtered data: \\n', injury_ns.describe())"
   ]
  },
  {
   "cell_type": "markdown",
   "metadata": {},
   "source": [
    "2. Calculating the CI: \n",
    "\n",
    "Given $N_{player} = 60$, then the $df_{player} = N_{player} - 1 = 59$,  \n",
    "Based on the data we also have $M_{player} \\approx 3.73$ and $SE_{M_{player}} \\approx 0.30$\n",
    "\n",
    "The 95% confidence interval for the mean pain score of those who played on a Nintendo Switch is: \n",
    "\n",
    "$$\n",
    "[M - c \\times SE_M, M + c \\times SE_M] \\approx [3.14, 4.33]\n",
    "$$"
   ]
  },
  {
   "cell_type": "code",
   "execution_count": 25,
   "metadata": {},
   "outputs": [
    {
     "name": "stdout",
     "output_type": "stream",
     "text": [
      "Sample size: 60, \n",
      "Degree of Freedom: 59,\n",
      "Mean: 3.7333333333333334,\n",
      "Standard Error: 0.29864729557842784\n",
      "CI (Lower):  3.1357414752023387\n",
      "CI (Upper):  4.3309251914643285\n",
      "\n",
      "The 95% CI for Switch players: \n",
      " [3.1357414752023387, 4.3309251914643285]\n"
     ]
    }
   ],
   "source": [
    "injury_ns_mean = injury_ns.mean()\n",
    "injury_ns_sem = injury_ns.sem()\n",
    "injury_ns_dregf = len(injury_ns) - 1\n",
    "\n",
    "print(f'Sample size: {len(injury_ns)}, \\n'\n",
    "      f'Degree of Freedom: {injury_ns_dregf},\\n'\n",
    "      f'Mean: {injury_ns_mean},\\n'\n",
    "      f'Standard Error: {injury_ns_sem}')\n",
    "\n",
    "injury_ns_ci = confidence_interval(0.05, injury_ns_mean, injury_ns_sem, injury_ns_dregf)\n",
    "print(f'\\nThe 95% CI for Switch players: \\n', injury_ns_ci)"
   ]
  }
 ],
 "metadata": {
  "kernelspec": {
   "display_name": "educ8009",
   "language": "python",
   "name": "python3"
  },
  "language_info": {
   "codemirror_mode": {
    "name": "ipython",
    "version": 3
   },
   "file_extension": ".py",
   "mimetype": "text/x-python",
   "name": "python",
   "nbconvert_exporter": "python",
   "pygments_lexer": "ipython3",
   "version": "3.10.15"
  }
 },
 "nbformat": 4,
 "nbformat_minor": 2
}
