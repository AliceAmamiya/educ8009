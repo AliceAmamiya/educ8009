{
 "cells": [
  {
   "cell_type": "raw",
   "metadata": {
    "vscode": {
     "languageId": "raw"
    }
   },
   "source": [
    "---\n",
    "title: \"Laboratory 04\"\n",
    "format:\n",
    "    html: \n",
    "        code-line-numbers: true\n",
    "    pdf:\n",
    "        documentclass: article\n",
    "        margin-left: 1in\n",
    "        margin-right: 1in\n",
    "        margin-top: 1in\n",
    "        margin-bottom: 1in\n",
    "        papersize: a4\n",
    "        toc: true\n",
    "        number-sections: true\n",
    "        code-line-numbers: true\n",
    "        header-includes:\n",
    "            - \\usepackage{xeCJK}\n",
    "            - \\usepackage{fvextra}\n",
    "            - \\setCJKmainfont{Noto Serif CJK TC}\n",
    "            - \\DefineVerbatimEnvironment{Highlighting}{Verbatim}{breaklines,commandchars=\\\\\\{\\}}\n",
    "---"
   ]
  },
  {
   "cell_type": "markdown",
   "metadata": {},
   "source": [
    "# Reply on the feedback of Lab 3\n",
    "\n",
    "Again, thanks for your feedback on last assignment. Here's my response: \n",
    "\n",
    "## On 4.4 Q3: Function for calculating the CI\n",
    "\n",
    "Absolutely! The awesome `scipy` library does so much more than a TI-84. The `scipy.stats.t` module covers all aspects of the $t$-test workflow, and the `interval` method provides the confidence interval in no time: \n",
    "\n",
    "```python\n",
    "stats.t.interval(confidence=0.95, \n",
    "                 df=119, \n",
    "                 loc=injury_mean, \n",
    "                 scale=injury_sem)\n",
    "```\n",
    "\n",
    "Which outputs: \n",
    "```\n",
    "(2.53106725077079, 3.252266082562543)\n",
    "```"
   ]
  },
  {
   "cell_type": "markdown",
   "metadata": {},
   "source": [
    "Humans make mistakes sometimes, so calling the function not only saves time but also helps avoid the chance of errors. As you explained the equations in the lecture and demonstrated the calculations, I think it’s best to follow your approach for the math as well.\n",
    "\n",
    "I do this only when I'm doing assignments and just for fun. (In most cases) I never trust myself and my knowledge so I never do these dangerous thing to the real world data.  :P \n",
    "\n",
    "## On 4.5 Q4: $p$-value in my report\n",
    "\n",
    "Got it! This part was refined and updated on the [web doc](https://shen.riko.work/educ8009/session05-06/assignment.html#q4-summarizing-the-findings). \n",
    "\n",
    "## On 4.2.2 Q1b: Trap in the future \n",
    "\n",
    "```latex\n",
    "{\\huge NOOOOOOOOOOOO!}\n",
    "```\n",
    "\n",
    "I believe my fellow classmates and I suffered enough from the traps in the quizzes.\n",
    "\n",
    "## While I was writing this part\n",
    "\n",
    "My lord jumped on my desk for a warm greeting: \n",
    "\n",
    "![The Lord](./the-prince-2.jpg)\n"
   ]
  },
  {
   "cell_type": "markdown",
   "metadata": {},
   "source": [
    "# Context\n",
    "\n",
    "```\n",
    " _._     _,-'\"\"`-._\n",
    "(,-.`._,'(       |\\`-/|\n",
    "    `-.-' \\ )-`( , o o)\n",
    "          `-    \\`_`\"'-\n",
    "```\n",
    "\n",
    "Open the data in the file catterplot.sav. These data measure two variables: \n",
    "\n",
    "- `dinner_time`: the time since last feeding a cat.\n",
    "- `meow`: how loud their purr is.\n"
   ]
  },
  {
   "cell_type": "markdown",
   "metadata": {},
   "source": [
    "# Objectives\n",
    "\n",
    "1. Describe the distribution of `dinner_time`.\n",
    "2. Draw a scatterplot of `meow` against `dinner_time` with the LOESS curve. Do you think the two variables are linearly related?\n",
    "3. Compute the correlation coefficient of `dinner_time` and `meow`. Does the correlation coefficient suggest a strong linear relationship?\n",
    "4. Test the null hypothesis that the two variables are not linearly related at the 5% level.\n",
    "5. (Extra credit) Obtain a 95% confidence interval for the population correlation coefficient of the two variables. "
   ]
  },
  {
   "cell_type": "markdown",
   "metadata": {},
   "source": [
    "# Solutions\n",
    "\n",
    "## A quick dataset check-up"
   ]
  },
  {
   "cell_type": "code",
   "execution_count": 27,
   "metadata": {},
   "outputs": [
    {
     "name": "stdout",
     "output_type": "stream",
     "text": [
      "Description on the dataset: \n",
      "        dinner_time       meow\n",
      "count    78.000000  78.000000\n",
      "mean      9.865385   8.217949\n",
      "std       6.068159   3.747371\n",
      "min       1.000000   2.000000\n",
      "25%       5.000000   5.000000\n",
      "50%       9.000000   8.000000\n",
      "75%      14.000000  12.000000\n",
      "max      24.000000  15.000000\n"
     ]
    }
   ],
   "source": [
    "import pandas as pd\n",
    "catterplot_df = pd.read_spss('./datasets/catterplot.sav')\n",
    "\n",
    "print(f'Description on the dataset: \\n',catterplot_df.describe())"
   ]
  },
  {
   "cell_type": "markdown",
   "metadata": {},
   "source": [
    "## Q1: Data distribution\n",
    "\n",
    "**Answer**\n",
    "\n",
    "| Measurement| Value|\n",
    "|------------|------|\n",
    "| Mean       | 9.87 |\n",
    "| Median     | 9.00 |\n",
    "| Mode       | 5.00 |\n",
    "\n",
    ": Mean, mode and median {#tbl-centrality}\n",
    "\n",
    "@tbl-centrality lists measurements on the central tendency of this data, the mean (9.87) is slightly higher than the median (9.00) but much higher than the mode (5.00). The distribution is right-skewed as shown by @fig-dinner-time-hist, and a longer tail is found on the right side. There is a clear peak around 5, which indicates most cats in this sample were fed with in 5 hours. \n",
    "\n",
    "**Solution**\n",
    "\n",
    "To describe the distribution of the dataset, I will again use the mean, median, and mode to assess central tendency, along with a histogram to visualize the distribution."
   ]
  },
  {
   "cell_type": "code",
   "execution_count": 28,
   "metadata": {},
   "outputs": [
    {
     "name": "stdout",
     "output_type": "stream",
     "text": [
      "Central Tendency: \n",
      "Mean: 9.865384615384615, \n",
      "Median: 9.0 \n",
      "Mode: 5.0\n"
     ]
    }
   ],
   "source": [
    "def centrality(df): \n",
    "    mean = df.mean()\n",
    "    median = df.median()\n",
    "    mode = df.mode()[0]\n",
    "    return mean, median, mode\n",
    "\n",
    "cats_mean, cats_median, cats_mode = centrality(catterplot_df['dinner_time'])\n",
    "print(f'Central Tendency: \\n'\n",
    "      f'Mean: {cats_mean}, \\n'\n",
    "      f'Median: {cats_median} \\n' \n",
    "      f'Mode: {cats_mode}')"
   ]
  },
  {
   "cell_type": "code",
   "execution_count": 29,
   "metadata": {},
   "outputs": [
    {
     "data": {
      "image/png": "[encoded data removed]",
      "text/plain": [
       "<Figure size 640x480 with 1 Axes>"
      ]
     },
     "metadata": {},
     "output_type": "display_data"
    }
   ],
   "source": [
    "#| label: fig-dinner-time-hist\n",
    "#| fig-cap: Distribution of Dinner Time\n",
    "\n",
    "import matplotlib.pyplot as plt\n",
    "import seaborn as sns\n",
    "\n",
    "# Create a histogram to reveal the distribution. \n",
    "dinner_time_hist = sns.histplot(catterplot_df, x='dinner_time', kde=True, bins=23)\n",
    "# Set titles and labels for x- and y- axis\n",
    "dinner_time_hist.set_title('Distribution of the time since last feeding a cat')\n",
    "dinner_time_hist.set_xlabel('last_feed: Time elapsed since the last feed')\n",
    "dinner_time_hist.set_ylabel('Frequency')\n",
    "# Display the plot\n",
    "plt.show()"
   ]
  },
  {
   "cell_type": "markdown",
   "metadata": {},
   "source": [
    "## Q2: The (s)catterplot\n",
    "\n",
    "**Answer**\n",
    "\n",
    "The scatter plot in @fig-catterplot shows that the data, at least, forms a perfect shape of a cat! However, the scattered points and the gentle slope of the LOESS curve suggest that there is not a strong linear relationship between the time since the last feeding (`dinner_time`) and the loudness of purring (`meow`). The scatter plot also indicates a weak correlation between these two variables.\n",
    "\n",
    "\n",
    "**Solution**\n"
   ]
  },
  {
   "cell_type": "code",
   "execution_count": 30,
   "metadata": {},
   "outputs": [
    {
     "data": {
      "image/png": "[encoded data removed]",
      "text/plain": [
       "<Figure size 640x480 with 1 Axes>"
      ]
     },
     "metadata": {},
     "output_type": "display_data"
    }
   ],
   "source": [
    "#| label: fig-catterplot\n",
    "#| fig-cap: The (s)catterplot on meow againt dinnertime. \n",
    "\n",
    "import matplotlib.pyplot as plt\n",
    "import seaborn as sns\n",
    "\n",
    "catterplot = sns.regplot(catterplot_df, x='dinner_time', y='meow', fit_reg=True, lowess=True)\n",
    "catterplot.set_title('The (S)catterplot')\n",
    "catterplot.set_xlabel('last_feed: Time elapsed since the last feed')\n",
    "catterplot.set_ylabel('meow: Loudness of Purring')\n",
    "plt.show()"
   ]
  },
  {
   "cell_type": "markdown",
   "metadata": {},
   "source": [
    "## Q3: The Pearson's $r$ of `dinner_time` v. `meow`\n",
    "\n",
    "**Answer**\n",
    "\n",
    "$r \\approx -6.12 \\times 10^{-3}$\n",
    "\n",
    "The pearson's correlation coefficient $r \\approx -6.12 \\times 10^{-3}$ is very close to zero, suggesting there may be no linear relationship between `dinner_time` and `meow` in this dataset. However, it's important to note that the data lacks further details, particularly regarding the sampling procedure. Specifically, we don’t know if the data represents multiple observations of a single cat (in which case it would be a single case) or if it was collected from several different cats (in which case the sample size and whether the sample is similar to population of interest needs to be justified). Although the correlation is statistically weak, we cannot definitively conclude that there is no relationship between the given variables.[^1]\n",
    "\n",
    "In conclusion, the pearson's $r$ suggests there is no strong linear relationship between the time since last feed and the volume of cats' purring. That's all I can say. \n",
    "\n",
    "**Solution**\n",
    "\n",
    "To calculate the pearson's $r$, I use the formula[^2]: \n",
    "\n",
    "$$r = \\frac{\\sum_{Z_XZ_Y}}{N-1}$$\n",
    "\n",
    "[^1]: As a devoted servant to cat, I must say that, in my experience, our cat never purrs after a meal. So, there’s definitely no relationship between those variables in my case. Staying silent seems to be his strategy for navigating this wild and dangerous world. \n",
    "[^2]: I just put the formula here for ... nothing? I didn't actually calculated on hand this time. :P"
   ]
  },
  {
   "cell_type": "code",
   "execution_count": 31,
   "metadata": {},
   "outputs": [
    {
     "name": "stdout",
     "output_type": "stream",
     "text": [
      "Correlation Coefficient\n",
      "Pearson-r: -0.006117549224989473\n",
      "p-value: 0.9576068830096687\n"
     ]
    }
   ],
   "source": [
    "import scipy.stats as stats\n",
    "\n",
    "pearson_r_results_cats = stats.pearsonr(catterplot_df.meow, catterplot_df.dinner_time)\n",
    "\n",
    "pearson_r_cats = pearson_r_results_cats[0]\n",
    "p_cats = pearson_r_results_cats[1]\n",
    "\n",
    "print(f'Correlation Coefficient\\n'\n",
    "      f'Pearson-r: {pearson_r_cats}\\n'\n",
    "      f'p-value: {pearson_r_results_cats[1]}')"
   ]
  },
  {
   "cell_type": "markdown",
   "metadata": {},
   "source": [
    "## Q4: Test $H_0$ at the 5% sig-level\n",
    "\n",
    "**Answer**\n",
    "\n",
    "$p \\approx 0.9576$\n",
    "\n",
    "The $p$-value is much greater than the significance level $\\alpha = 0.05$, therefore, we fail to reject the null hypothesis ($H_0$) that `dinner_time` and `meow` are not linearly related. This means that there is insufficient evidence to suggest a linear relationship between `dinner_time` and `meow` at the 5% significance level, the sample does not indicate a significant linear correlation between the two variables.\n",
    "\n",
    "**Solution**\n",
    "\n",
    "The null hypothesis ($H_0$) and the alternative hypothesis ($H_1$) are formulated as follows:\n",
    "\n",
    " - $H_0:\\rho = 0$: no linear relationship.\n",
    " - $H_1:\\rho \\neq 0$: linear relationship exists. \n",
    "\n",
    "Given $r \\approx -0.0061$, $p \\approx 0.9576$ and $\\alpha = 0.05$: "
   ]
  },
  {
   "cell_type": "code",
   "execution_count": 32,
   "metadata": {},
   "outputs": [
    {
     "name": "stdout",
     "output_type": "stream",
     "text": [
      "Given the p-value=0.9576068830096687 and alpha=0.05:\n",
      "Fail to reject the null hypothesis: \n",
      "No significant linear relationship.\n"
     ]
    }
   ],
   "source": [
    "def test_hypothesis(p_value, alpha=0.05): \n",
    "    print(f'Given the p-value={p_value} and alpha={alpha}:')\n",
    "    if p_value < alpha:\n",
    "        print(\"Reject the null hypothesis: \\nThere is evidence of a linear relationship.\")\n",
    "    else:\n",
    "        print(\"Fail to reject the null hypothesis: \\nNo significant linear relationship.\")\n",
    "\n",
    "test_hypothesis(p_cats, alpha=0.05)"
   ]
  },
  {
   "cell_type": "markdown",
   "metadata": {},
   "source": [
    "## Q5: 95% CI of $\\rho$\n",
    "\n",
    "**Answer**\n",
    "\n",
    "The 95% confidence interval for the population correlation coefficient $\\rho$ is approximately:\n",
    "$$[-0.2283, 0.2167]$$\n",
    "\n",
    "**Solution**\n",
    "\n",
    "Given $N = 78$, $r = -6.12 \\times 10^{-3}$, the 95% confidence interval for the population correlation coefficient $\\rho$ is then calculated based on the Fisher $z$-transformation, steps of calculation is listed below and I wrapped the calculation procedure in a single function: \n",
    "\n",
    "$z$-transformation\n",
    "\n",
    "$$\n",
    "z = \\frac{1}{2}ln(\\frac{1+r}{1-r}) = artanh(r)\n",
    "$$\n",
    "\n",
    "Standard error of $z$\n",
    "\n",
    "$$\n",
    "SE_z = \\frac{1}{\\sqrt{N-3}}\n",
    "$$\n",
    "\n",
    "CI in the $z$-scale\n",
    "\n",
    "$$\n",
    "z_{lower} = z - c \\times SE_z\n",
    "$$\n",
    "\n",
    "$$\n",
    "z_{upper} = z - c \\times SE_z\n",
    "$$\n",
    "\n",
    "Inverse Fisher transformation\n",
    "\n",
    "$$\n",
    "r = \\frac{exp(2z)-1}{exp(2z)+1} = tanh(z)\n",
    "$$\n",
    "\n",
    "Finally we get\n",
    "\n",
    "$$\n",
    "r_{lower} = tanh(z_{lower})\n",
    "$$\n",
    "$$\n",
    "r_{upper} = tanh(z_{upper})\n",
    "$$"
   ]
  },
  {
   "cell_type": "code",
   "execution_count": 33,
   "metadata": {},
   "outputs": [
    {
     "name": "stdout",
     "output_type": "stream",
     "text": [
      "0.95 Confidence Intervals of rho: \n",
      "Lower Limit: -0.22833745967041358 \n",
      "Upper Limit: 0.21670822097748485\n"
     ]
    }
   ],
   "source": [
    "from math import sqrt, tanh, atanh\n",
    "\n",
    "n_cats = len(catterplot_df)\n",
    "\n",
    "def ci_rho(n, pearson_r, alpha=0.05):\n",
    "    # z-transformation\n",
    "    z = atanh(pearson_r)\n",
    "    # SEM of z\n",
    "    se_z = 1 / sqrt(n - 3)\n",
    "    # CI in the z score in the 95% level.  \n",
    "    c = stats.norm.ppf(1 - alpha / 2)\n",
    "    z_lower = z - c * se_z\n",
    "    z_upper = z + c * se_z\n",
    "    # Inverse Fisher transformation\n",
    "    r_lower = tanh(z_lower)\n",
    "    r_upper = tanh(z_upper)\n",
    "    return r_lower, r_upper\n",
    "\n",
    "r_lower_cats, r_upper_cats = ci_rho(n_cats, pearson_r_cats)\n",
    "\n",
    "print(f'0.95 Confidence Intervals of rho: \\n'\n",
    "      f'Lower Limit: {r_lower_cats} \\n'\n",
    "      f'Upper Limit: {r_upper_cats}')"
   ]
  },
  {
   "cell_type": "code",
   "execution_count": 34,
   "metadata": {},
   "outputs": [
    {
     "name": "stdout",
     "output_type": "stream",
     "text": [
      "0.95 Confidence Intervals of rho: \n",
      "Lower Limit: -0.22833745967041358 \n",
      "Upper Limit: 0.21670822097748485\n"
     ]
    }
   ],
   "source": [
    "# Or just call the function: \n",
    "\n",
    "# Ths pearson-r results was calculated in Q3, and stored in pearson_r_results_cats\n",
    "# Just apply the confidence_interval method on the pearson_r_results_cats, and bingo! \n",
    "\n",
    "ci_rho_cats = pearson_r_results_cats.confidence_interval(confidence_level=0.95) # It does the Fisher transformation by default\n",
    "\n",
    "print(f'0.95 Confidence Intervals of rho: \\n'\n",
    "      f'Lower Limit: {ci_rho_cats[0]} \\n'\n",
    "      f'Upper Limit: {ci_rho_cats[1]}')"
   ]
  },
  {
   "cell_type": "markdown",
   "metadata": {},
   "source": [
    "\\pagebreak\n",
    "\n",
    "# Final thoughts: Cats good, humans bad. \n",
    "\n",
    "![The Prince](./the-prince.jpg){#fig-the-prince}\n",
    "\n",
    "In Chinese social media, there's a meme called \"Cats good, humans bad\" (貓好人壞), which humorously suggests that cats are always right and any misbehavior is blamed on humans. My partner and I keep an American Shorthair (see @fig-the-prince) in our rented place, and we call him *the Prince*, not because of his noble lineage, but due to his annoying behaviors that sometimes drive us crazy. For instance, when he desires food, he jumps on our bed and meows loudly, trying to wake us up in the early morning! \n",
    "\n",
    "I think if I plot the `loudness` of our Prince's meowing, the peak would definitely appear BEFORE `mealtime`, as he meows to summon his servant.\n",
    "\n",
    "And he eats better than we do! According to my partner, she steams duck breasts for our cat at low temperature to keep the meat juicy, a process that takes hours to prepare. Meanwhile, his two poor owners often resort to instant food from the supermarket or just grab a meal from the nearby Saizeriya. (Yes, there's a Saizeriya close to our block!)\n",
    "\n",
    "Yet, we always remind ourselves that we are not serving the Prince to the best of our abilities. \n",
    "\n",
    "貓好人壞. The kitty is always innocent!\n",
    "\n",
    "Alright, it’s good to be a cat like the Prince, who keeps meowing at the door, knowing that at the start and the end of the day, a two-legged monster will appear to feed him, regardless of how stressful and dangerous those poor monsters in the world outside might encounter.\n",
    "\n",
    "We all love him, without any doubt!"
   ]
  },
  {
   "cell_type": "markdown",
   "metadata": {
    "vscode": {
     "languageId": "raw"
    }
   },
   "source": [
    "\\newpage\n",
    "\n",
    "```plain\n",
    "⠀⠀⠀⠀⠀⠀⠀⠀⠀⠀⠀⠀⠀⠀⠀⠀⠀⠀⠀⠀⠀⠀⠀⠀⢀⣀⣀⣀⣀⣀⣤⠀⠀⠀⠀⠀⠀⠀⠀⠀⠀⠀⠀\n",
    "⠀⠀⠀⠀⠀⠀⠀⠀⠀⠀⠀⣀⡠⠤⠤⠤⠒⠒⠈⠉⠙⠒⠲⣌⠉⢀⣀⢼⠷⠃⠈⢹⠀⠀⠀⠀⠀⠀⠀⠀⠀⠀⠀\n",
    "⠀⢶⠲⣿⠋⠉⠉⠽⠛⣹⡟⠁⠀⠀⠀⠀⠀⠀⠀⠀⠤⣀⠀⠑⠞⠒⠒⠒⠀⠀⣼⣦⣀⢴⡆⠀⠀⠀⠀⠀⠀⠀⠀\n",
    "⠀⠈⢆⠀⠀⠀⠀⠀⢸⠏⠀⠀⠀⠀⠄⠀⠀⠁⠀⢠⠀⠈⠑⢄⠀⡀⢄⡄⠀⢠⣿⣿⡧⢸⠁⠀⠀⠀⠀⠀⠀⠀⠀\n",
    "⠀⠀⠈⣆⠀⠀⠀⢀⠃⠀⠀⠀⠀⢠⠃⠀⠀⠀⠀⠀⢇⠀⠀⠀⢀⡘⡄⠁⢀⠟⠉⠁⠀⡞⠀⠀⠀⠀⠀⠀⠀⠀⠀\n",
    "⡖⠢⢤⣏⢆⠀⠀⡆⢀⡆⢀⠀⠀⢸⠀⠀⠀⠀⠀⡀⠸⡀⠀⠀⠀⠓⠸⡀⠘⣆⡀⠀⢰⡇⠀⠀⠀⠀⠀⠀⠀⠀⠀\n",
    "⠹⡄⠀⠈⠝⢷⣼⡇⢸⠁⠀⠀⠀⡘⣾⠀⠀⠀⠀⠗⠦⠤⠤⡤⠂⠀⠀⡇⠀⣿⣄⠀⠘⣇⠀⠀⠀⠀⠀⠀⠀⠀⠀\n",
    "⠀⢹⡤⠆⢀⡴⢿⡇⢸⠀⢸⡴⠊⠉⠙⠣⣀⠀⡀⠀⠀⣨⣿⣿⡶⣤⡆⢳⡀⣿⠀⠉⠒⠛⠀⠀⠀⠀⠀⠀⠀⠀⠀\n",
    "⠀⠘⡇⠀⡠⢲⠃⢃⠈⣦⣘⡷⢶⣶⣦⣄⠈⠁⠀⠀⣾⣏⢽⣿⣧⣟⡇⠀⡿⢻⡀⠀⠀⠀⠀⠀⠀⠀⠀⠀⠀⠀⠀\n",
    "⠀⠀⠇⠈⣰⠋⢳⠘⣤⢼⡈⣇⢿⡾⡟⡿⠃⠀⣀⡀⠀⠙⠓⠛⠋⣸⣵⠄⢸⣰⠃⠀⠀⠀⠀⢀⡠⠤⠤⢄⠀⠀⠀\n",
    "⠀⠀⠘⡤⠃⠀⢸⣿⠻⡀⢣⡈⠀⠉⠉⠁⠀⠀⠀⠀⠀⠀⠀⠠⠾⢏⡿⠀⢸⢿⠀⠀⢠⣤⡔⠁⣀⢄⡀⠀⠙⡄⠀\n",
    "⠀⠀⠀⠀⠀⢠⣿⢿⡄⠀⢲⣯⡟⠁⠀⠀⠀⠒⠊⠉⠀⠀⠀⣀⣴⠾⣤⣴⢃⣼⠀⠀⠀⣽⠁⠀⢠⡜⠁⠀⠀⢰⠀\n",
    "⠀⠀⠀⠀⠀⠠⢷⡆⢱⣀⠈⢻⣏⣑⣶⠤⠤⣤⠤⠤⠤⠶⣏⠉⠀⢀⠿⣇⣴⠃⠀⠀⠀⠘⡄⠀⠀⠡⠄⠀⠀⡜⠀\n",
    "⠀⠀⠀⣷⡀⢰⠋⢻⢸⠈⠉⠉⠁⠀⠀⠀⣾⡿⠒⠤⢄⣰⡟⣷⣀⢸⣠⠏⢹⠀⣀⣠⠀⠀⠈⠢⠤⠤⠤⠤⠊⠀⠀\n",
    "⠀⠀⠀⡟⢳⣿⠀⠌⣸⠁⣀⣀⣀⣠⠴⠊⠉⢑⣒⠤⣤⣤⣶⣿⠾⣯⠉⠓⠻⣏⢁⠞⠀⠀⠀⠀⠀⠀⠀⠀⠀⠀⠀\n",
    "⠀⠀⠐⣷⠀⣿⣧⣾⡟⠋⡜⠉⠁⠀⠀⠸⣍⠉⢉⠉⣿⣿⣅⠀⢠⠃⠀⢸⡀⠈⢿⣄⡀⠀⠀⠀⠀⠀⠀⠀⠀⠀⠀\n",
    "⠀⠀⠀⠘⡾⠁⠈⡟⠁⡜⠀⠀⢀⡀⠀⠀⠘⡆⠁⡰⠋⢣⢹⠳⣮⠀⠀⠈⣷⠀⠀⠀⠙⣦⡀⠀⠀⠀⠀⠀⠀⠀⠀\n",
    "⠀⠀⠀⢠⠁⡀⣀⡿⠞⠀⠀⠀⠈⡇⠀⠀⠀⠳⠞⠀⠀⠈⠻⠖⠁⠀⠀⠀⠈⢷⡄⠀⠀⠈⢳⡄⠀⠀⠀⠀⠀⠀⠀\n",
    "⠀⠀⠀⠘⠻⢻⣿⠀⠀⠀⠀⠀⢰⡧⣀⠀⠀⠀⠀⠀⠀⠀⠀⠀⠀⠀⠀⠀⠀⠀⠙⢧⡀⢀⣿⣇⠀⠀⠀⠀⠀⠀⠀\n",
    "⠀⠀⠀⠀⠀⣿⣿⠀⠠⡀⠀⠀⡞⠀⠀⠀⠀⠀⠀⠀⠀⠀⠀⠀⠀⠀⠀⠀⠀⠀⠀⠀⢻⣿⠗⠙⠳⣄⠀⠀⠀⠀⠀\n",
    "⠀⠀⠀⢀⡞⠉⠉⠑⢄⡈⠻⢤⡇⠀⠀⠀⠀⠀⠀⠀⠀⠀⠀⠀⠀⠀⠀⠀⠀⠀⠀⠀⠈⡇⠀⠀⠀⠈⠳⣄⠀⠀⠀\n",
    "⠀⠀⢀⣾⠀⠀⠀⠀⠀⠈⠒⣼⡄⠀⠀⠀⠀⠀⠀⠀⠀⠀⠀⠀⠀⠀⠀⠀⠀⠀⠀⠀⣴⠃⠀⠀⠀⠀⠀⠈⠏⠒⠤\n",
    "⢀⡴⠋⠀⠀⠀⠀⠀⠀⠀⡰⠛⢿⡆⠀⠀⠀⠀⠀⠀⠀⠀⠀⠀⠀⠀⠀⠀⠀⠀⣠⣾⠛⠦⣄⡀⠀⠀⠀⠀⠀⠀⠀\n",
    "```\n",
    "[^3]\n",
    "\n",
    "[^3]: An easter egg here, something can't be compiled by {\\LaTeX}. "
   ]
  }
 ],
 "metadata": {
  "kernelspec": {
   "display_name": "educ8009",
   "language": "python",
   "name": "python3"
  },
  "language_info": {
   "codemirror_mode": {
    "name": "ipython",
    "version": 3
   },
   "file_extension": ".py",
   "mimetype": "text/x-python",
   "name": "python",
   "nbconvert_exporter": "python",
   "pygments_lexer": "ipython3",
   "version": "3.10.15"
  }
 },
 "nbformat": 4,
 "nbformat_minor": 2
}
