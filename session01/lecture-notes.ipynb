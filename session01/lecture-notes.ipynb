{
 "cells": [
  {
   "cell_type": "markdown",
   "metadata": {},
   "source": [
    "---\n",
    "title: \"Session 01: Introduction\"\n",
    "---"
   ]
  },
  {
   "cell_type": "markdown",
   "metadata": {},
   "source": [
    "## Summary\n",
    "\n",
    "We didn't discuss too much on statistics or quantitative methods. \n",
    "\n",
    "Rather, we tried to import dataset into SPSS and played around with datasets below:\n",
    "\n",
    "- `mtcars`: a built-in dataset in `base-r`, wrapped in an `.xlsx` file for some reason. \n",
    "- `temphr10.sav`: a dataset came from the textbook, looks like a series of weather data. "
   ]
  },
  {
   "cell_type": "markdown",
   "metadata": {},
   "source": [
    "## Implementations\n",
    "Since I use python for my daily work, the data were loaded to pandas. "
   ]
  },
  {
   "cell_type": "code",
   "execution_count": 1,
   "metadata": {
    "ExecuteTime": {
     "end_time": "2024-09-23T06:38:25.643078Z",
     "start_time": "2024-09-23T06:38:24.553955Z"
    }
   },
   "outputs": [],
   "source": [
    "# Also, for descriptive statistics, pandas itself is enough for the job. \n",
    "import pandas as pd\n",
    "import seaborn as sns"
   ]
  },
  {
   "cell_type": "code",
   "execution_count": 2,
   "metadata": {
    "ExecuteTime": {
     "end_time": "2024-09-23T06:38:27.379682Z",
     "start_time": "2024-09-23T06:38:27.311852Z"
    }
   },
   "outputs": [],
   "source": [
    "# Load the SPSS dataset called \"temphr10.sav\".\n",
    "temphr10 = pd.read_spss('./datasets/temphr10.sav')\n",
    "# I converted the excel file to csv. \n",
    "mtcars = pd.read_csv('./datasets/mtcars.csv')\n"
   ]
  },
  {
   "cell_type": "markdown",
   "metadata": {},
   "source": [
    "### In SPSS: Measures of variables\n"
   ]
  },
  {
   "cell_type": "code",
   "execution_count": 3,
   "metadata": {
    "ExecuteTime": {
     "end_time": "2024-09-23T06:39:04.405819Z",
     "start_time": "2024-09-23T06:39:04.393748Z"
    }
   },
   "outputs": [
    {
     "data": {
      "text/plain": [
       "Index(['sex', 'hr', 'temp_Fahrenheit', 'temp_Celcius', 'Likert_rating'], dtype='object')"
      ]
     },
     "execution_count": 3,
     "metadata": {},
     "output_type": "execute_result"
    }
   ],
   "source": [
    "# What's in the variable view in SPSS\n",
    "temphr10.columns"
   ]
  },
  {
   "cell_type": "markdown",
   "metadata": {},
   "source": [
    "In SPSS: \n",
    "- Nominal: labels, e.g. *races or gender / sex*\n",
    "- Ordinal: ranking\n",
    "- Interval: ordinal, equally spaced, e.g. *temperature, IQ*\n",
    "- Ratio: interval + a true zero point, e.g. *ago, wage, height, weight (it can be 0)*\n",
    "\n",
    "| Level of Measurement | Valid Operations                                  |\n",
    "|----------------------|---------------------------------------------------|\n",
    "| Nominal              | $=$, $\\neq$                                       |\n",
    "| Ordinal              | $=$, $\\neq$, $<$, $>$                             |\n",
    "| Interval             | $=$, $\\neq$, $<$, $>$, $+$, $-$                   |\n",
    "| Ratio                | $=$, $\\neq$, $<$, $>$, $+$, $-$, $\\times$, $\\div$ |"
   ]
  },
  {
   "cell_type": "markdown",
   "metadata": {},
   "source": [
    "## Descriptive Statistics"
   ]
  },
  {
   "cell_type": "code",
   "execution_count": 5,
   "metadata": {},
   "outputs": [
    {
     "data": {
      "text/plain": [
       "count       10\n",
       "unique       2\n",
       "top       Male\n",
       "freq         7\n",
       "Name: sex, dtype: object"
      ]
     },
     "execution_count": 5,
     "metadata": {},
     "output_type": "execute_result"
    }
   ],
   "source": [
    "# Ways to do descriptive things in pandas.\n",
    "temphr10['sex'].describe()"
   ]
  },
  {
   "cell_type": "code",
   "execution_count": 6,
   "metadata": {},
   "outputs": [
    {
     "data": {
      "text/plain": [
       "Likert_rating\n",
       "Neutral or Don't Know    3\n",
       "Agree                    2\n",
       "Disagree                 2\n",
       "Strongly Disagree        2\n",
       "Strongly Agree           1\n",
       "Name: count, dtype: int64"
      ]
     },
     "execution_count": 6,
     "metadata": {},
     "output_type": "execute_result"
    }
   ],
   "source": [
    "temphr10['Likert_rating'].value_counts()"
   ]
  },
  {
   "cell_type": "code",
   "execution_count": 7,
   "metadata": {},
   "outputs": [
    {
     "data": {
      "text/plain": [
       "hr\n",
       "75.0    2\n",
       "70.0    1\n",
       "69.0    1\n",
       "71.0    1\n",
       "62.0    1\n",
       "74.0    1\n",
       "80.0    1\n",
       "73.0    1\n",
       "82.0    1\n",
       "Name: count, dtype: int64"
      ]
     },
     "execution_count": 7,
     "metadata": {},
     "output_type": "execute_result"
    }
   ],
   "source": [
    "temphr10['hr'].value_counts()"
   ]
  },
  {
   "cell_type": "markdown",
   "metadata": {},
   "source": []
  }
 ],
 "metadata": {
  "kernelspec": {
   "display_name": "educ8009",
   "language": "python",
   "name": "python3"
  },
  "language_info": {
   "codemirror_mode": {
    "name": "ipython",
    "version": 3
   },
   "file_extension": ".py",
   "mimetype": "text/x-python",
   "name": "python",
   "nbconvert_exporter": "python",
   "pygments_lexer": "ipython3",
   "version": "3.10.14"
  }
 },
 "nbformat": 4,
 "nbformat_minor": 2
}
