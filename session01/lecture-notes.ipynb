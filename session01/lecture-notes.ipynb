{
 "cells": [
  {
   "cell_type": "markdown",
   "metadata": {},
   "source": [
    "---\n",
    "title: \"Session 01\"\n",
    "---"
   ]
  },
  {
   "cell_type": "markdown",
   "metadata": {},
   "source": [
    "We didn't discuss too much on statistics or quantitative methods. \n",
    "\n",
    "Rather, we tried to import dataset into SPSS and played around with datasets below:\n",
    "\n",
    "- `mtcars`: a built-in dataset in `base-r`, wrapped in an `.xlsx` file for some reason. \n",
    "- `temphr10.sav`: a dataset came from the textbook, looks like a series of weather data. "
   ]
  },
  {
   "cell_type": "code",
   "execution_count": 2,
   "metadata": {},
   "outputs": [],
   "source": [
    "# For descriptive statistics, pandas itself is enough for the job. \n",
    "import pandas as pd"
   ]
  },
  {
   "cell_type": "code",
   "execution_count": 4,
   "metadata": {},
   "outputs": [],
   "source": [
    "# Load the SPSS dataset called \"temphr10.sav\".\n",
    "temphr10 = pd.read_spss('./datasets/temphr10.sav')\n",
    "# I converted the excel file to csv. \n",
    "mtcars = pd.read_csv('./datasets/mtcars.csv')\n"
   ]
  },
  {
   "cell_type": "code",
   "execution_count": 5,
   "metadata": {},
   "outputs": [
    {
     "data": {
      "text/plain": [
       "count       10\n",
       "unique       2\n",
       "top       Male\n",
       "freq         7\n",
       "Name: sex, dtype: object"
      ]
     },
     "execution_count": 5,
     "metadata": {},
     "output_type": "execute_result"
    }
   ],
   "source": [
    "# Ways to do description statistics in pandas.\n",
    "temphr10['sex'].describe()"
   ]
  },
  {
   "cell_type": "code",
   "execution_count": 6,
   "metadata": {},
   "outputs": [
    {
     "data": {
      "text/plain": [
       "Likert_rating\n",
       "Neutral or Don't Know    3\n",
       "Agree                    2\n",
       "Disagree                 2\n",
       "Strongly Disagree        2\n",
       "Strongly Agree           1\n",
       "Name: count, dtype: int64"
      ]
     },
     "execution_count": 6,
     "metadata": {},
     "output_type": "execute_result"
    }
   ],
   "source": [
    "temphr10['Likert_rating'].value_counts()"
   ]
  },
  {
   "cell_type": "code",
   "execution_count": 7,
   "metadata": {},
   "outputs": [
    {
     "data": {
      "text/plain": [
       "hr\n",
       "75.0    2\n",
       "70.0    1\n",
       "69.0    1\n",
       "71.0    1\n",
       "62.0    1\n",
       "74.0    1\n",
       "80.0    1\n",
       "73.0    1\n",
       "82.0    1\n",
       "Name: count, dtype: int64"
      ]
     },
     "execution_count": 7,
     "metadata": {},
     "output_type": "execute_result"
    }
   ],
   "source": [
    "temphr10['hr'].value_counts()"
   ]
  }
 ],
 "metadata": {
  "kernelspec": {
   "display_name": "educ8009",
   "language": "python",
   "name": "python3"
  },
  "language_info": {
   "codemirror_mode": {
    "name": "ipython",
    "version": 3
   },
   "file_extension": ".py",
   "mimetype": "text/x-python",
   "name": "python",
   "nbconvert_exporter": "python",
   "pygments_lexer": "ipython3",
   "version": "3.10.14"
  }
 },
 "nbformat": 4,
 "nbformat_minor": 2
}
