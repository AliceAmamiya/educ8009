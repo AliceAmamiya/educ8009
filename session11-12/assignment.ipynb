{
 "cells": [
  {
   "cell_type": "raw",
   "metadata": {
    "vscode": {
     "languageId": "raw"
    }
   },
   "source": [
    "---\n",
    "title: \"Laboratory 06\"\n",
    "format:\n",
    "    html: \n",
    "        code-line-numbers: true\n",
    "    pdf:\n",
    "        documentclass: article\n",
    "        margin-left: 1in\n",
    "        margin-right: 1in\n",
    "        margin-top: 1in\n",
    "        margin-bottom: 1in\n",
    "        papersize: a4\n",
    "        toc: true\n",
    "        number-sections: true\n",
    "        code-line-numbers: true\n",
    "        header-includes:\n",
    "            - \\usepackage{fvextra}\n",
    "            - \\DefineVerbatimEnvironment{Highlighting}{Verbatim}{breaklines,commandchars=\\\\\\{\\}}\n",
    "---"
   ]
  },
  {
   "cell_type": "markdown",
   "metadata": {},
   "source": [
    "# Quick reply on the feedback of Lab 5\n",
    "\n",
    "I just realized how *sh\\*t* I actually knew about regression before (as @fig-bell-curve shows). I’ll be revising my work next week since I got caught up with multiple deadlines from my advisor[^1].\n",
    "\n",
    "**I'm dying.**\n",
    "\n",
    "[^1]: So did you finally have lunch with him?. \n",
    "\n",
    "![I think I was here.](./bell-curve.jpg){#fig-bell-curve}\n",
    "\n",
    "## About the `web doc`\n",
    "\n",
    "I’ve open-sourced all the labs, including questions and solutions, on my GitHub repository. Unlike PDFs, the web version can be updated at any time — even after it's published. The flexibility of HTML may reflects the evolving way we produce knowledge in academia.\n",
    "\n",
    "\\pagebreak"
   ]
  },
  {
   "cell_type": "markdown",
   "metadata": {},
   "source": [
    "# Context\n",
    "An instructor of EDUC8009 noticed that a lot of students became very stressed about this course, so he designed a questionnaire to measure their fear of statistics. Each item was a statement followed by a five-point Likert scale: \n",
    "\n",
    "1 = strongly disagree, 2 = disagree, 3 = neither agree nor disagree, 4 = agree, 5 = strongly agree. \n",
    "\n",
    "Note that only item 2 is reverse-scored. The data are saved in `fear.sav`.\n",
    "\n",
    "# Objectives\n",
    "1. Compute Cronbach’s alpha of all the items but item 2. Is the reliability high?\n",
    "2. If you can delete an item to improve the scale, which item will you delete? Why?\n",
    "3. To compute Cronbach’s alpha of all the items, we need recode item 2 first. Describe the distribution of the new variable you just generated.\n",
    "4. Compute Cronbach’s alpha of all the items in the scale."
   ]
  },
  {
   "cell_type": "markdown",
   "metadata": {},
   "source": [
    "# Solutions\n",
    "\n",
    "## Talk is cheap. Let's face the `fear`. "
   ]
  },
  {
   "cell_type": "code",
   "execution_count": 1,
   "metadata": {},
   "outputs": [],
   "source": [
    "import pandas as pd\n",
    "import pyreadstat\n",
    "\n",
    "fear_df = pd.read_spss('./datasets/fear.sav', convert_categoricals=False)\n",
    "fear_questions = pyreadstat.read_sav('./datasets/fear.sav')[1].column_labels"
   ]
  },
  {
   "cell_type": "code",
   "execution_count": 2,
   "metadata": {},
   "outputs": [
    {
     "name": "stdout",
     "output_type": "stream",
     "text": [
      "Q1: Statistics makes me cry\n",
      "Q2: Standard deviations excite me\n",
      "Q3: I dream that Pearson is attacking me with correlation coefficients\n",
      "Q4: I don't understand statistics\n",
      "Q5: People try to tell you that SPSS makes statistics easier to understand but it doesn't\n",
      "Q6: I weep openly at the mention of central tendency\n",
      "Q7: I can't sleep for thoughts of effect sizes\n",
      "Q8: I wake up under my duvet thinking that I am trapped under a normal distribution\n"
     ]
    }
   ],
   "source": [
    "# List all questions asked. \n",
    "def list_questions(): \n",
    "    n=1\n",
    "    for question in fear_questions: \n",
    "        print(f'Q{n}: {question}')\n",
    "        n += 1\n",
    "\n",
    "list_questions()"
   ]
  },
  {
   "cell_type": "code",
   "execution_count": 3,
   "metadata": {},
   "outputs": [
    {
     "name": "stdout",
     "output_type": "stream",
     "text": [
      "Rows vs Columns:  (2571, 8)\n",
      "Name of columns:  Index(['Q1', 'Q2', 'Q3', 'Q4', 'Q5', 'Q6', 'Q7', 'Q8'], dtype='object')\n",
      "Description: \n",
      "                 Q1           Q2           Q3           Q4           Q5  \\\n",
      "count  2571.000000  2571.000000  2571.000000  2571.000000  2571.000000   \n",
      "mean      3.483469     3.481136     3.471023     3.465189     3.494360   \n",
      "std       0.986297     0.990585     0.994262     1.000707     0.981674   \n",
      "min       1.000000     1.000000     1.000000     1.000000     1.000000   \n",
      "25%       3.000000     3.000000     3.000000     3.000000     3.000000   \n",
      "50%       4.000000     4.000000     3.000000     3.000000     4.000000   \n",
      "75%       4.000000     4.000000     4.000000     4.000000     4.000000   \n",
      "max       5.000000     5.000000     5.000000     5.000000     5.000000   \n",
      "\n",
      "                Q6           Q7           Q8  \n",
      "count  2571.000000  2571.000000  2571.000000  \n",
      "mean      3.473357     3.498639     3.475690  \n",
      "std       0.982913     0.998588     0.978212  \n",
      "min       1.000000     1.000000     1.000000  \n",
      "25%       3.000000     3.000000     3.000000  \n",
      "50%       3.000000     4.000000     4.000000  \n",
      "75%       4.000000     4.000000     4.000000  \n",
      "max       5.000000     5.000000     5.000000  \n"
     ]
    }
   ],
   "source": [
    "\n",
    "# Shape of the 'fear'\n",
    "print(f'Rows vs Columns: ', fear_df.shape)\n",
    "\n",
    "# Columns include in this dataset\n",
    "print(f'Name of columns: ', fear_df.columns)\n",
    "\n",
    "# Describe it!\n",
    "print(f'Description: \\n', fear_df.describe())"
   ]
  },
  {
   "cell_type": "markdown",
   "metadata": {},
   "source": [
    "Wait, $N = 2571$? The entire FED doesn't even have this many students!\n",
    "\n",
    "I then plotted the Likert-scale (see @fig-likert) to see the distribution of everyone's fear:"
   ]
  },
  {
   "cell_type": "code",
   "execution_count": null,
   "metadata": {},
   "outputs": [
    {
     "name": "stderr",
     "output_type": "stream",
     "text": [
      "/home/rshen/miniconda3/envs/educ8009/lib/python3.10/site-packages/plot_likert/plot_likert.py:257: FutureWarning: DataFrame.applymap has been deprecated. Use DataFrame.map instead.\n",
      "  df.applymap(validate)\n",
      "/home/rshen/miniconda3/envs/educ8009/lib/python3.10/site-packages/plot_likert/plot_likert.py:310: FutureWarning: Series.__getitem__ treating keys as positions is deprecated. In a future version, integer keys will always be treated as labels (consistent with DataFrame behavior). To access a value by position, use `ser.iloc[pos]`\n",
      "  responses_to_first_question = responses_per_question[0]\n"
     ]
    },
    {
     "data": {
      "image/png": "[encoded data removed]",
      "text/plain": [
       "<Figure size 640x480 with 1 Axes>"
      ]
     },
     "metadata": {},
     "output_type": "display_data"
    }
   ],
   "source": [
    "#| label: fig-likert\n",
    "#| fig-cap: A visualized Likert-scale result on all questions. \n",
    "\n",
    "# Better to visualize the data: \n",
    "\n",
    "import matplotlib.pyplot as plt\n",
    "import plot_likert\n",
    "\n",
    "fear_scales = range(1,6)\n",
    "fear_scales_labels = ['Strongly Disagree', 'Disagree', 'Neither', 'Agree', 'Strongly agree']\n",
    "fear_plot = plot_likert.plot_likert(fear_df, fear_scales, plot_percentage=True)\n",
    "handles, labels = fear_plot.get_legend_handles_labels()\n",
    "fear_plot.legend(handles, fear_scales_labels, bbox_to_anchor=(1.0, 1.0))\n",
    "plt.show()"
   ]
  },
  {
   "cell_type": "markdown",
   "metadata": {},
   "source": [
    "## Q1: Cronbach’s $\\alpha$ for all items (except item 2)\n",
    "\n",
    "**Answer**\n",
    "\n",
    "For $Q_1 + Q_3 + ... + Q_7 + Q_8$, the $\\alpha \\approx 0.6873$. \n",
    "\n",
    "**Solution**\n",
    "\n"
   ]
  },
  {
   "cell_type": "code",
   "execution_count": 5,
   "metadata": {},
   "outputs": [
    {
     "name": "stdout",
     "output_type": "stream",
     "text": [
      "Cronbach's Alpha: 0.6873382583349454\n",
      "for the original Q2 deleted.\n"
     ]
    }
   ],
   "source": [
    "import pingouin as pg\n",
    "\n",
    "fear_df_item2_excluded = fear_df.drop('Q2', axis=1)\n",
    "\n",
    "# Calculate cronbach's alpha within a dataframe: \n",
    "def print_cronbach_alpha(df): \n",
    "    alpha = pg.cronbach_alpha(data=df)[0]\n",
    "    print(f'Cronbach\\'s Alpha:',alpha)\n",
    "\n",
    "print_cronbach_alpha(fear_df_item2_excluded)\n",
    "print('for the original Q2 deleted.')\n"
   ]
  },
  {
   "cell_type": "markdown",
   "metadata": {},
   "source": [
    "## Q2: Drop item to improve the scale\n",
    "\n",
    "**Answer** \n",
    "\n",
    "I would like to drop Question 5, \"People try to tell you that SPSS makes statistics easier to understand but it doesn't\", for following reason: \n",
    "\n",
    "1. The lowest inter-item correlation: see @tbl-inter-item-corr, which was generated from SPSS (sorry about that). \n",
    "2. The lowest corrected item-total correlation: $0.2593$\n",
    "3. Cronbach’s alpha increases when this item is deleted: from $\\alpha \\approx 0.6873$ to $\\alpha \\approx 0.6888$.[^2]\n",
    "\n",
    "\n",
    "|    | Q1    | Q3   | Q4    |  Q5   |  Q6   |  Q7   |  Q8   |\n",
    "|----|-------|------|-------|-------|-------|-------|-------|\n",
    "| Q1 | 1.000 | .217 | .223  | .150  | .176  | .207  | .227  |\n",
    "| Q3 | .217  | 1.000| .319  | .196  | .271  | .284  | .320  |\n",
    "| Q4 | .223  | .319 | 1.000 | .187  | .240  | .341  | .371  |\n",
    "| Q5 | .150  | .196 | .187  | 1.000 | .153  | .123  | .164  |\n",
    "| Q6 | .176  | .271 | .240  | .153  | 1.000 | .232  | .264  |\n",
    "| Q7 | .207  | .284 | .341  | .123  | .232  | 1.000 | .349  |\n",
    "| Q8 | .227  | .320 | .371  | .164  | .264  | .349  | 1.000 |\n",
    "\n",
    ":Inter-Item Correlation Matrix {#tbl-inter-item-corr}\n",
    "\n",
    "[^2]: What a fortune number for we Asian people. \n",
    "\n",
    "**Solution**"
   ]
  },
  {
   "cell_type": "code",
   "execution_count": 6,
   "metadata": {},
   "outputs": [
    {
     "name": "stdout",
     "output_type": "stream",
     "text": [
      "Item-total Correlations:\n",
      "Q1 to total 0.32493144386994777\n",
      "Q3 to total 0.44890601739301994\n",
      "Q4 to total 0.4726060003637261\n",
      "Q5 to total 0.2592530237967403\n",
      "Q6 to total 0.36566649644104937\n",
      "Q7 to total 0.4267725068168662\n",
      "Q8 to total 0.47718130451492624\n",
      "======================\n",
      "Cronbach's Alpha if an item deleted:\n",
      "If Q1 is deleted:  0.672004161791457\n",
      "If Q3 is deleted:  0.6384165554243204\n",
      "If Q4 is deleted:  0.6315956086496489\n",
      "If Q5 is deleted:  0.6887820469122623\n",
      "If Q6 is deleted:  0.6611984636617284\n",
      "If Q7 is deleted:  0.6445525162609321\n",
      "If Q8 is deleted:  0.6308404954800185\n",
      "======================\n",
      "Item that has lowest item-total correlation coefficient:  Q5\n",
      "Item that would improve Cronbach's alpha the most if deleted: Q5\n"
     ]
    }
   ],
   "source": [
    "# Calculate item-total correlations\n",
    "def item_total_correlation(df):\n",
    "    total_score = df.sum(axis=1)\n",
    "    correlations = {}\n",
    "    for question in df.columns:\n",
    "        total_excluding_item = total_score - df[question]\n",
    "        correlation = df[question].corr(total_excluding_item)\n",
    "        correlations[question] = correlation\n",
    "    return correlations\n",
    "\n",
    "# Calculate the Cronbach's alpha after deleting each item\n",
    "def cronbach_alpha_if_deleted(df):\n",
    "    alphas = {}\n",
    "    for question in df.columns:\n",
    "        df_without_item = df.drop(question, axis=1)\n",
    "        alpha = pg.cronbach_alpha(df_without_item)[0]\n",
    "        alphas[question] = alpha\n",
    "    return alphas\n",
    "\n",
    "# Calculate item-total correlation\n",
    "item_correlations = item_total_correlation(fear_df_item2_excluded)\n",
    "print(f'Item-total Correlations:')\n",
    "for item in item_correlations: \n",
    "    print(item, 'to total', item_correlations[item])\n",
    "print(f'======================')\n",
    "alphas_if_deleted = cronbach_alpha_if_deleted(fear_df_item2_excluded)\n",
    "print(f'Cronbach\\'s Alpha if an item deleted:')\n",
    "for item in alphas_if_deleted: \n",
    "    print(f'If {item} is deleted: ', alphas_if_deleted[item])\n",
    "\n",
    "# Present the result\n",
    "print(f'======================')\n",
    "best_item_to_delete_corr = min(item_correlations, key=item_correlations.get)\n",
    "print(f'Item that has lowest item-total correlation coefficient: ', best_item_to_delete_corr)\n",
    "best_item_to_delete_alpha = max(alphas_if_deleted, key=alphas_if_deleted.get)\n",
    "print(f'Item that would improve Cronbach\\'s alpha the most if deleted: {best_item_to_delete_alpha}')\n"
   ]
  },
  {
   "cell_type": "markdown",
   "metadata": {},
   "source": [
    "## Q3: Recode, then describe the distribution of Q2\n",
    "\n",
    "**Answer**\n",
    "\n",
    "The distribution of the reverse-worded Question 2, after recoding, shows a mean score of $M = 2.52$, suggesting moderate agreement with standard deviations excites the participants. The standard deviation is $SD = 0.99$, indicates moderate variability among responses. The distribution, as shown in @fig-histo-q2rev, is slightly right-skewed, with a peak at $2$ (that is *Disagree*), indicating that a majority of students (also see in @fig-q2rev) reported that they disagree on the statement that standard deviations *excites* them.\n",
    "\n",
    "**Solution**\n"
   ]
  },
  {
   "cell_type": "code",
   "execution_count": 7,
   "metadata": {},
   "outputs": [],
   "source": [
    "# Recoding the reverse-worded item, this part works the same as SPSS: \n",
    "fear_df_rev = fear_df\n",
    "fear_df_rev['Q2'] = 6 - fear_df_rev['Q2']"
   ]
  },
  {
   "cell_type": "code",
   "execution_count": 8,
   "metadata": {},
   "outputs": [
    {
     "data": {
      "text/plain": [
       "count    2571.000000\n",
       "mean        2.518864\n",
       "std         0.990585\n",
       "min         1.000000\n",
       "25%         2.000000\n",
       "50%         2.000000\n",
       "75%         3.000000\n",
       "max         5.000000\n",
       "Name: Q2, dtype: float64"
      ]
     },
     "execution_count": 8,
     "metadata": {},
     "output_type": "execute_result"
    }
   ],
   "source": [
    "# Describe the \n",
    "fear_df_rev['Q2'].describe()"
   ]
  },
  {
   "cell_type": "code",
   "execution_count": null,
   "metadata": {},
   "outputs": [
    {
     "data": {
      "image/png": "[encoded data removed]",
      "text/plain": [
       "<Figure size 640x480 with 1 Axes>"
      ]
     },
     "metadata": {},
     "output_type": "display_data"
    }
   ],
   "source": [
    "#| label: fig-histo-q2rev\n",
    "#| caption: A histogram based on result of Question 2 (recoded)\n",
    "\n",
    "import seaborn as sns\n",
    "\n",
    "q2_rev_hist = sns.histplot(fear_df_rev['Q2'], bins=5)\n",
    "q2_rev_hist.set_xticks(fear_scales)\n",
    "q2_rev_hist.set_title(fear_questions[1])\n",
    "plt.show()"
   ]
  },
  {
   "cell_type": "code",
   "execution_count": null,
   "metadata": {},
   "outputs": [
    {
     "name": "stderr",
     "output_type": "stream",
     "text": [
      "/home/rshen/miniconda3/envs/educ8009/lib/python3.10/site-packages/plot_likert/plot_likert.py:257: FutureWarning: DataFrame.applymap has been deprecated. Use DataFrame.map instead.\n",
      "  df.applymap(validate)\n",
      "/home/rshen/miniconda3/envs/educ8009/lib/python3.10/site-packages/plot_likert/plot_likert.py:310: FutureWarning: Series.__getitem__ treating keys as positions is deprecated. In a future version, integer keys will always be treated as labels (consistent with DataFrame behavior). To access a value by position, use `ser.iloc[pos]`\n",
      "  responses_to_first_question = responses_per_question[0]\n"
     ]
    },
    {
     "data": {
      "image/png": "[encoded data removed]",
      "text/plain": [
       "<Figure size 640x480 with 1 Axes>"
      ]
     },
     "metadata": {},
     "output_type": "display_data"
    }
   ],
   "source": [
    "#| label: fig-q2rev\n",
    "#| fig-cap: The result of Question 2 (recoded)\n",
    "\n",
    "q2_rev_plot = plot_likert.plot_likert(fear_df_rev['Q2'], fear_scales, plot_percentage=True)\n",
    "q2_rev_plot.legend(handles, fear_scales_labels, bbox_to_anchor=(1.0, 1.0))\n",
    "q2_rev_plot.set_title(fear_questions[1])\n",
    "plt.show()"
   ]
  },
  {
   "cell_type": "markdown",
   "metadata": {},
   "source": [
    "## Q4: Cronbach’s alpha of all the items\n",
    "\n",
    "**Answer**\n",
    "\n",
    "For $Q_1 + Q_{2rev} + ... + Q_7 + Q_8$, the Cronbach's $\\alpha \\approx 0.7071$\n",
    "\n",
    "**Solution**"
   ]
  },
  {
   "cell_type": "code",
   "execution_count": 11,
   "metadata": {},
   "outputs": [
    {
     "name": "stdout",
     "output_type": "stream",
     "text": [
      "Cronbach's Alpha: 0.7071483372463728\n",
      "with recoded Q2_rev\n"
     ]
    }
   ],
   "source": [
    "print_cronbach_alpha(fear_df_rev)\n",
    "print('with recoded Q2_rev')"
   ]
  }
 ],
 "metadata": {
  "kernelspec": {
   "display_name": "educ8009",
   "language": "python",
   "name": "python3"
  },
  "language_info": {
   "codemirror_mode": {
    "name": "ipython",
    "version": 3
   },
   "file_extension": ".py",
   "mimetype": "text/x-python",
   "name": "python",
   "nbconvert_exporter": "python",
   "pygments_lexer": "ipython3",
   "version": "3.10.15"
  }
 },
 "nbformat": 4,
 "nbformat_minor": 2
}
