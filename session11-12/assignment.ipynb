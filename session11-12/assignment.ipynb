{
 "cells": [
  {
   "cell_type": "raw",
   "metadata": {
    "vscode": {
     "languageId": "raw"
    }
   },
   "source": [
    "---\n",
    "title: \"Laboratory 05\"\n",
    "format:\n",
    "    html: \n",
    "        code-line-numbers: true\n",
    "    pdf:\n",
    "        documentclass: article\n",
    "        margin-left: 1in\n",
    "        margin-right: 1in\n",
    "        margin-top: 1in\n",
    "        margin-bottom: 1in\n",
    "        papersize: a4\n",
    "        toc: true\n",
    "        number-sections: true\n",
    "        code-line-numbers: true\n",
    "        header-includes:\n",
    "            - \\usepackage{fvextra}\n",
    "            - \\DefineVerbatimEnvironment{Highlighting}{Verbatim}{breaklines,commandchars=\\\\\\{\\}}\n",
    "---"
   ]
  },
  {
   "cell_type": "markdown",
   "metadata": {},
   "source": [
    "# Reply on the feedback of Lab 5\n",
    "\n",
    "Now I realize I learnt shit on the regression (at least the OLS things). My workflow handling with OLS has been deeply simplified by `scikit-learn` and `statsmodels`. \n",
    "\n",
    "## On the `web doc`\n",
    "\n",
    "I opensourced all labs with questions and solutions on my GitHub repository. Compared with PDFs we daily entacted with, web version can be updated anytime even after I published it. The flexbility underneth HTML I believe is a shift of how we produce knowledge in the academia. \n",
    "\n",
    "## On the "
   ]
  },
  {
   "cell_type": "markdown",
   "metadata": {},
   "source": [
    "# Context\n",
    "An instructor of EDUC8009 noticed that a lot of students became very stressed about this course, so he designed a questionnaire to measure their fear of statistics. Each item was a statement followed by a five-point Likert scale: \n",
    "\n",
    "1 = strongly disagree, 2 = disagree, 3 = neither agree nor disagree, 4 = agree, 5 = strongly agree. \n",
    "\n",
    "Note that only item 2 is reverse-scored. The data are saved in `fear.sav`.\n",
    "\n",
    "# Objectives\n",
    "1. Compute Cronbach’s alpha of all the items but item 2. Is the reliability high?\n",
    "2. If you can delete an item to improve the scale, which item will you delete? Why?\n",
    "3. To compute Cronbach’s alpha of all the items, we need recode item 2 first. Describe the distribution of the new variable you just generated.\n",
    "4. Compute Cronbach’s alpha of all the items in the scale."
   ]
  },
  {
   "cell_type": "markdown",
   "metadata": {},
   "source": [
    "# Solutions\n",
    "\n",
    "## Talk is cheap. Let's face the `fear`. "
   ]
  },
  {
   "cell_type": "code",
   "execution_count": 67,
   "metadata": {},
   "outputs": [],
   "source": [
    "import pandas as pd\n",
    "\n",
    "fear_df = pd.read_spss('./datasets/fear.sav', convert_categoricals=False)"
   ]
  },
  {
   "cell_type": "code",
   "execution_count": 52,
   "metadata": {},
   "outputs": [
    {
     "name": "stdout",
     "output_type": "stream",
     "text": [
      "Rows vs Columns:  (2571, 8)\n",
      "Name of columns:  Index(['Q1', 'Q2', 'Q3', 'Q4', 'Q5', 'Q6', 'Q7', 'Q8'], dtype='object')\n",
      "Description: \n",
      "                 Q1           Q2           Q3           Q4           Q5  \\\n",
      "count  2571.000000  2571.000000  2571.000000  2571.000000  2571.000000   \n",
      "mean      3.483469     3.481136     3.471023     3.465189     3.494360   \n",
      "std       0.986297     0.990585     0.994262     1.000707     0.981674   \n",
      "min       1.000000     1.000000     1.000000     1.000000     1.000000   \n",
      "25%       3.000000     3.000000     3.000000     3.000000     3.000000   \n",
      "50%       4.000000     4.000000     3.000000     3.000000     4.000000   \n",
      "75%       4.000000     4.000000     4.000000     4.000000     4.000000   \n",
      "max       5.000000     5.000000     5.000000     5.000000     5.000000   \n",
      "\n",
      "                Q6           Q7           Q8  \n",
      "count  2571.000000  2571.000000  2571.000000  \n",
      "mean      3.473357     3.498639     3.475690  \n",
      "std       0.982913     0.998588     0.978212  \n",
      "min       1.000000     1.000000     1.000000  \n",
      "25%       3.000000     3.000000     3.000000  \n",
      "50%       3.000000     4.000000     4.000000  \n",
      "75%       4.000000     4.000000     4.000000  \n",
      "max       5.000000     5.000000     5.000000  \n"
     ]
    }
   ],
   "source": [
    "# Shape of the 'fear'\n",
    "print(f'Rows vs Columns: ', fear_df.shape)\n",
    "\n",
    "# Columns include in this dataset\n",
    "print(f'Name of columns: ', fear_df.columns)\n",
    "\n",
    "# Describe it!\n",
    "print(f'Description: \\n', fear_df.describe())"
   ]
  },
  {
   "cell_type": "markdown",
   "metadata": {},
   "source": [
    "$N = 2571$? That's a really large amount of sample (for students who has taken a single PhD level lecture). I think the whole FED doesn't have this amount of PhD student. Just kidding. \n",
    "\n",
    "I then visualized the Likert-scale:  "
   ]
  },
  {
   "cell_type": "code",
   "execution_count": 78,
   "metadata": {},
   "outputs": [
    {
     "name": "stderr",
     "output_type": "stream",
     "text": [
      "/usr/local/python/3.12.1/lib/python3.12/site-packages/plot_likert/plot_likert.py:257: FutureWarning: DataFrame.applymap has been deprecated. Use DataFrame.map instead.\n",
      "  df.applymap(validate)\n",
      "/usr/local/python/3.12.1/lib/python3.12/site-packages/plot_likert/plot_likert.py:310: FutureWarning: Series.__getitem__ treating keys as positions is deprecated. In a future version, integer keys will always be treated as labels (consistent with DataFrame behavior). To access a value by position, use `ser.iloc[pos]`\n",
      "  responses_to_first_question = responses_per_question[0]\n"
     ]
    },
    {
     "data": {
      "image/png": "[encoded data removed]",
      "text/plain": [
       "<Figure size 640x480 with 1 Axes>"
      ]
     },
     "metadata": {},
     "output_type": "display_data"
    }
   ],
   "source": [
    "# Better to visualize the data: \n",
    "\n",
    "import matplotlib.pyplot as plt\n",
    "import seaborn as sns\n",
    "\n",
    "import plot_likert\n",
    "# fear_scales_agree = ['Strongly Disagree', 'Disagree', 'Neither', 'Agree', 'Strongly agree']\n",
    "plot = plot_likert.plot_likert(fear_df, fear_scales_agree, plot_percentage=True)\n",
    "plot.legend(['1', '2', '33', '4', '55'])\n",
    "plt.show()"
   ]
  },
  {
   "cell_type": "markdown",
   "metadata": {},
   "source": [
    "## Q1: Cronbach’s $\\alpha$ for all items (except item 2)\n",
    "\n",
    "**Answer**\n",
    "\n",
    "\n",
    "\n",
    "**Solution**\n",
    "\n"
   ]
  },
  {
   "cell_type": "code",
   "execution_count": 59,
   "metadata": {},
   "outputs": [
    {
     "name": "stdout",
     "output_type": "stream",
     "text": [
      "(np.float64(0.6873382583349454), array([0.669, 0.705]))\n"
     ]
    }
   ],
   "source": [
    "import pingouin as pg\n",
    "\n",
    "# Drop item 2\n",
    "\n",
    "fear_df_item2_excluded = fear_df.drop('Q2', axis=1)\n",
    "cronbach_alpha = pg.cronbach_alpha(data=fear_df_item2_excluded)\n",
    "print(cronbach_alpha)"
   ]
  },
  {
   "cell_type": "code",
   "execution_count": 62,
   "metadata": {},
   "outputs": [
    {
     "name": "stdout",
     "output_type": "stream",
     "text": [
      "Cronbach's alpha: 0.406\n"
     ]
    }
   ],
   "source": [
    "def cronbach_alpha(df):\n",
    "    item_variances = df.var(ddof=1)  # Item variances\n",
    "    item_covariances = df.cov(ddof=1).mean().mean()  # Average covariance between items\n",
    "    \n",
    "    N = df.shape[1]  # Number of items\n",
    "    return (N / (N - 1)) * (item_covariances / item_variances.mean())\n",
    "\n",
    "# Calculate Cronbach's alpha for the items excluding item 2\n",
    "alpha = cronbach_alpha(fear_df_item2_excluded)\n",
    "print(f\"Cronbach's alpha: {alpha:.3f}\")"
   ]
  },
  {
   "cell_type": "code",
   "execution_count": 63,
   "metadata": {},
   "outputs": [
    {
     "name": "stdout",
     "output_type": "stream",
     "text": [
      "Item-Total Correlations:\n",
      "{'Q1': np.float64(0.32493144386994754), 'Q3': np.float64(0.44890601739301983), 'Q4': np.float64(0.47260600036372685), 'Q5': np.float64(0.2592530237967405), 'Q6': np.float64(0.36566649644104926), 'Q7': np.float64(0.4267725068168655), 'Q8': np.float64(0.4771813045149253)}\n",
      "\n",
      "Cronbach's Alpha for Item Deletion:\n",
      "{'Q1': np.float64(0.45454903738314445), 'Q3': np.float64(0.42736302559869555), 'Q4': np.float64(0.4222345985572608), 'Q5': np.float64(0.46946708062658704), 'Q6': np.float64(0.4454330283299757), 'Q7': np.float64(0.43208405299526836), 'Q8': np.float64(0.4216744130494865)}\n",
      "\n",
      "The item that would improve Cronbach's alpha the most if deleted: Q5\n"
     ]
    }
   ],
   "source": [
    "# Calculate item-total correlations\n",
    "def item_total_correlation(df):\n",
    "    # Calculate the total score for each student (excluding each item one by one)\n",
    "    total_score = df.sum(axis=1)\n",
    "    correlations = {}\n",
    "    \n",
    "    for item in df.columns:\n",
    "        # Exclude the current item from the total score for correlation calculation\n",
    "        total_excluding_item = total_score - df[item]\n",
    "        correlation = df[item].corr(total_excluding_item)\n",
    "        correlations[item] = correlation\n",
    "    \n",
    "    return correlations\n",
    "\n",
    "# Calculate the Cronbach's alpha after deleting each item\n",
    "def cronbach_alpha_with_deletion(df):\n",
    "    alphas = {}\n",
    "    for item in df.columns:\n",
    "        df_without_item = df.drop(item, axis=1)\n",
    "        alpha = cronbach_alpha(df_without_item)\n",
    "        alphas[item] = alpha\n",
    "    return alphas\n",
    "\n",
    "# Calculate item-total correlation\n",
    "item_correlations = item_total_correlation(fear_df_item2_excluded)\n",
    "print(\"Item-Total Correlations:\")\n",
    "print(item_correlations)\n",
    "\n",
    "# Calculate Cronbach's alpha for each item deletion\n",
    "alphas_with_deletion = cronbach_alpha_with_deletion(fear_df_item2_excluded)\n",
    "print(\"\\nCronbach's Alpha for Item Deletion:\")\n",
    "print(alphas_with_deletion)\n",
    "\n",
    "# Find the item that would improve the alpha the most if deleted\n",
    "best_item_to_delete = max(alphas_with_deletion, key=alphas_with_deletion.get)\n",
    "print(f\"\\nThe item that would improve Cronbach's alpha the most if deleted: {best_item_to_delete}\")\n"
   ]
  },
  {
   "cell_type": "code",
   "execution_count": 68,
   "metadata": {},
   "outputs": [],
   "source": [
    "fear_df_rev = fear_df\n",
    "fear_df_rev['Q2'] = 6 - fear_df_rev['Q2']"
   ]
  },
  {
   "cell_type": "code",
   "execution_count": 69,
   "metadata": {},
   "outputs": [
    {
     "name": "stderr",
     "output_type": "stream",
     "text": [
      "/usr/local/python/3.12.1/lib/python3.12/site-packages/plot_likert/plot_likert.py:257: FutureWarning: DataFrame.applymap has been deprecated. Use DataFrame.map instead.\n",
      "  df.applymap(validate)\n",
      "/usr/local/python/3.12.1/lib/python3.12/site-packages/plot_likert/plot_likert.py:310: FutureWarning: Series.__getitem__ treating keys as positions is deprecated. In a future version, integer keys will always be treated as labels (consistent with DataFrame behavior). To access a value by position, use `ser.iloc[pos]`\n",
      "  responses_to_first_question = responses_per_question[0]\n"
     ]
    },
    {
     "data": {
      "image/png": "[encoded data removed]",
      "text/plain": [
       "<Figure size 640x480 with 1 Axes>"
      ]
     },
     "metadata": {},
     "output_type": "display_data"
    }
   ],
   "source": [
    "fear_scales_agree = [1, 2, 3, 4, 5]\n",
    "plot_likert.plot_likert(fear_df_rev, fear_scales_agree, plot_percentage=True)\n",
    "plt.show()"
   ]
  },
  {
   "cell_type": "code",
   "execution_count": 73,
   "metadata": {},
   "outputs": [
    {
     "data": {
      "text/plain": [
       "np.float64(0.37471197281309476)"
      ]
     },
     "execution_count": 73,
     "metadata": {},
     "output_type": "execute_result"
    }
   ],
   "source": [
    "cronbach_alpha(fear_df_rev)"
   ]
  },
  {
   "cell_type": "code",
   "execution_count": 76,
   "metadata": {},
   "outputs": [
    {
     "data": {
      "text/plain": [
       "(np.float64(0.7071483372463728), array([0.69 , 0.724]))"
      ]
     },
     "execution_count": 76,
     "metadata": {},
     "output_type": "execute_result"
    }
   ],
   "source": [
    "pg.cronbach_alpha(data=fear_df_rev)"
   ]
  }
 ],
 "metadata": {
  "kernelspec": {
   "display_name": "Python 3",
   "language": "python",
   "name": "python3"
  },
  "language_info": {
   "codemirror_mode": {
    "name": "ipython",
    "version": 3
   },
   "file_extension": ".py",
   "mimetype": "text/x-python",
   "name": "python",
   "nbconvert_exporter": "python",
   "pygments_lexer": "ipython3",
   "version": "3.12.1"
  }
 },
 "nbformat": 4,
 "nbformat_minor": 2
}
