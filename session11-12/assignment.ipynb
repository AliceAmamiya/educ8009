{
 "cells": [
  {
   "cell_type": "raw",
   "metadata": {
    "vscode": {
     "languageId": "raw"
    }
   },
   "source": [
    "---\n",
    "title: \"Laboratory 05\"\n",
    "format:\n",
    "    html: \n",
    "        code-line-numbers: true\n",
    "    pdf:\n",
    "        documentclass: article\n",
    "        margin-left: 1in\n",
    "        margin-right: 1in\n",
    "        margin-top: 1in\n",
    "        margin-bottom: 1in\n",
    "        papersize: a4\n",
    "        toc: true\n",
    "        number-sections: true\n",
    "        code-line-numbers: true\n",
    "        header-includes:\n",
    "            - \\usepackage{fvextra}\n",
    "            - \\DefineVerbatimEnvironment{Highlighting}{Verbatim}{breaklines,commandchars=\\\\\\{\\}}\n",
    "---"
   ]
  },
  {
   "cell_type": "markdown",
   "metadata": {},
   "source": [
    "# Reply on the feedback of Lab 5\n",
    "\n",
    "Now I realize I learnt shit on the regression (at least the OLS things). My workflow handling with OLS has been deeply simplified by `scikit-learn` and `statsmodels`. \n",
    "\n",
    "## On the `web doc`\n",
    "\n",
    "I opensourced all labs with questions and solutions on my GitHub repository. Compared with PDFs we daily entacted with, web version can be updated anytime even after I published it. The flexbility underneth HTML I believe is a shift of how we produce knowledge in the academia. \n",
    "\n",
    "## On the "
   ]
  },
  {
   "cell_type": "markdown",
   "metadata": {},
   "source": [
    "# Context\n",
    "An instructor of EDUC8009 noticed that a lot of students became very stressed about this course, so he designed a questionnaire to measure their fear of statistics. Each item was a statement followed by a five-point Likert scale: \n",
    "\n",
    "1 = strongly disagree, 2 = disagree, 3 = neither agree nor disagree, 4 = agree, 5 = strongly agree. \n",
    "\n",
    "Note that only item 2 is reverse-scored. The data are saved in `fear.sav`.\n",
    "\n",
    "# Objectives\n",
    "1. Compute Cronbach’s alpha of all the items but item 2. Is the reliability high?\n",
    "2. If you can delete an item to improve the scale, which item will you delete? Why?\n",
    "3. To compute Cronbach’s alpha of all the items, we need recode item 2 first. Describe the distribution of the new variable you just generated.\n",
    "4. Compute Cronbach’s alpha of all the items in the scale."
   ]
  },
  {
   "cell_type": "markdown",
   "metadata": {},
   "source": [
    "# Solutions\n",
    "\n",
    "## Talk is cheap. Let's face the `fear`. "
   ]
  },
  {
   "cell_type": "code",
   "execution_count": null,
   "metadata": {},
   "outputs": [],
   "source": [
    "import pandas as pd\n",
    "import pyreadstat\n",
    "\n",
    "fear_df = pd.read_spss('./datasets/fear.sav', convert_categoricals=False)\n",
    "fear_questions = pyreadstat.read_sav('./datasets/fear.sav')[1].column_labels"
   ]
  },
  {
   "cell_type": "code",
   "execution_count": null,
   "metadata": {},
   "outputs": [],
   "source": [
    "# List all questions asked. \n",
    "def list_questions(): \n",
    "    n=1\n",
    "    for question in fear_questions: \n",
    "        print(f'Q{n}: {question}')\n",
    "        n += 1\n",
    "\n",
    "list_questions()"
   ]
  },
  {
   "cell_type": "code",
   "execution_count": null,
   "metadata": {},
   "outputs": [],
   "source": [
    "\n",
    "# Shape of the 'fear'\n",
    "print(f'Rows vs Columns: ', fear_df.shape)\n",
    "\n",
    "# Columns include in this dataset\n",
    "print(f'Name of columns: ', fear_df.columns)\n",
    "\n",
    "# Describe it!\n",
    "print(f'Description: \\n', fear_df.describe())"
   ]
  },
  {
   "cell_type": "markdown",
   "metadata": {},
   "source": [
    "$N = 2571$? That's a really large amount of sample (for students who has taken a single PhD level lecture). \n",
    "\n",
    "Then I plotted the Likert-scale:  "
   ]
  },
  {
   "cell_type": "code",
   "execution_count": null,
   "metadata": {},
   "outputs": [],
   "source": [
    "# Better to visualize the data: \n",
    "\n",
    "import matplotlib.pyplot as plt\n",
    "import plot_likert\n",
    "\n",
    "fear_scales = [1, 2, 3, 4, 5]\n",
    "fear_scales_labels = ['Strongly Disagree', 'Disagree', 'Neither', 'Agree', 'Strongly agree']\n",
    "fear_plot = plot_likert.plot_likert(fear_df, fear_scales, plot_percentage=True)\n",
    "handles, labels = plot.get_legend_handles_labels()\n",
    "fear_plot.legend(handles, fear_scales_labels, bbox_to_anchor=(1.0, 1.0))\n",
    "plt.show()"
   ]
  },
  {
   "cell_type": "markdown",
   "metadata": {},
   "source": [
    "## Q1: Cronbach’s $\\alpha$ for all items (except item 2)\n",
    "\n",
    "**Answer**\n",
    "\n",
    "$Q_1 + Q_3 + ... + Q_7 + Q_8: \\alpha \\approx 0.6873$\n",
    "\n",
    "**Solution**\n",
    "\n"
   ]
  },
  {
   "cell_type": "code",
   "execution_count": null,
   "metadata": {},
   "outputs": [],
   "source": [
    "import pingouin as pg\n",
    "\n",
    "# Drop item 2\n",
    "\n",
    "fear_df_item2_excluded = fear_df.drop('Q2', axis=1)\n",
    "cronbach_alpha = pg.cronbach_alpha(data=fear_df_item2_excluded)[0]\n",
    "print(cronbach_alpha)"
   ]
  },
  {
   "cell_type": "markdown",
   "metadata": {},
   "source": [
    "# Q2: Drop item to improve the scale\n",
    "\n",
    "**Answer** \n",
    "\n",
    "I would like to drop Question 5, \"People try to tell you that SPSS makes statistics easier to understand but it doesn't\", for following reason: \n",
    "\n",
    "1. Low Inter‐item correlation\n",
    "2. Low Corrected item‐total correlation\n",
    "3. Cronbach’s alpha goes higher if this item is deleted"
   ]
  },
  {
   "cell_type": "code",
   "execution_count": 80,
   "metadata": {},
   "outputs": [
    {
     "name": "stdout",
     "output_type": "stream",
     "text": [
      "Item-total Correlations:\n",
      "Q1 to total 0.32493144386994777\n",
      "Q3 to total 0.44890601739301994\n",
      "Q4 to total 0.4726060003637261\n",
      "Q5 to total 0.2592530237967403\n",
      "Q6 to total 0.36566649644104937\n",
      "Q7 to total 0.4267725068168662\n",
      "Q8 to total 0.47718130451492624\n",
      "Cronbach's Alpha for Item Deletion: \n",
      " {'Q1': 0.672004161791457, 'Q3': 0.6384165554243204, 'Q4': 0.6315956086496489, 'Q5': 0.6887820469122623, 'Q6': 0.6611984636617284, 'Q7': 0.6445525162609321, 'Q8': 0.6308404954800185}\n",
      "Q5\n",
      "The item that would improve Cronbach's alpha the most if deleted: Q5\n"
     ]
    }
   ],
   "source": [
    "# Calculate item-total correlations\n",
    "def item_total_correlation(df):\n",
    "    total_score = df.sum(axis=1)\n",
    "    correlations = {}\n",
    "    for question in df.columns:\n",
    "        total_excluding_item = total_score - df[question]\n",
    "        correlation = df[question].corr(total_excluding_item)\n",
    "        correlations[question] = correlation\n",
    "    return correlations\n",
    "\n",
    "# Calculate the Cronbach's alpha after deleting each item\n",
    "def cronbach_alpha_if_deleted(df):\n",
    "    alphas = {}\n",
    "    for question in df.columns:\n",
    "        df_without_item = df.drop(question, axis=1)\n",
    "        alpha = pg.cronbach_alpha(df_without_item)[0]\n",
    "        alphas[question] = alpha\n",
    "    return alphas\n",
    "\n",
    "# Calculate item-total correlation\n",
    "item_correlations = item_total_correlation(fear_df_item2_excluded)\n",
    "print(f\"Item-total Correlations:\")\n",
    "for item in item_correlations: \n",
    "    print(item, 'to total', item_correlations[item])\n",
    "\n",
    "alphas_if_deleted = cronbach_alpha_if_deleted(fear_df_item2_excluded)\n",
    "print(f\"Cronbach's Alpha for Item Deletion: \\n\", alphas_if_deleted)\n",
    "\n",
    "# Find the item that would improve the alpha the most if deleted\n",
    "best_item_to_delete_corr = min(item_correlations, key=item_correlations.get)\n",
    "best_item_to_delete_alpha = max(alphas_with_deletion, key=alphas_with_deletion.get)\n",
    "print(best_item_to_delete_corr)\n",
    "print(f\"The item that would improve Cronbach's alpha the most if deleted: {best_item_to_delete_alpha}\")\n"
   ]
  },
  {
   "cell_type": "code",
   "execution_count": 81,
   "metadata": {},
   "outputs": [],
   "source": [
    "fear_df_rev = fear_df\n",
    "fear_df_rev['Q2'] = 6 - fear_df_rev['Q2']"
   ]
  },
  {
   "cell_type": "code",
   "execution_count": 86,
   "metadata": {},
   "outputs": [
    {
     "data": {
      "text/plain": [
       "<Axes: xlabel='Q2', ylabel='Count'>"
      ]
     },
     "execution_count": 86,
     "metadata": {},
     "output_type": "execute_result"
    },
    {
     "data": {
      "image/png": "[encoded data removed]",
      "text/plain": [
       "<Figure size 640x480 with 1 Axes>"
      ]
     },
     "metadata": {},
     "output_type": "display_data"
    }
   ],
   "source": [
    "import seaborn as sns\n",
    "\n",
    "sns.histplot(fear_df_rev['Q2'], bins=5)"
   ]
  },
  {
   "cell_type": "markdown",
   "metadata": {},
   "source": [
    "The distribution of the reverse-worded item (after recoding) shows a mean score of 3.5, suggesting moderate agreement with feeling stressed about statistics. The standard deviation of 1.1 indicates moderate variability among responses. The distribution is slightly left-skewed, indicating that a majority of students reported higher levels of stress."
   ]
  },
  {
   "cell_type": "code",
   "execution_count": 87,
   "metadata": {},
   "outputs": [
    {
     "name": "stderr",
     "output_type": "stream",
     "text": [
      "/home/rshen/miniconda3/envs/educ8009/lib/python3.10/site-packages/plot_likert/plot_likert.py:257: FutureWarning: DataFrame.applymap has been deprecated. Use DataFrame.map instead.\n",
      "  df.applymap(validate)\n",
      "/home/rshen/miniconda3/envs/educ8009/lib/python3.10/site-packages/plot_likert/plot_likert.py:310: FutureWarning: Series.__getitem__ treating keys as positions is deprecated. In a future version, integer keys will always be treated as labels (consistent with DataFrame behavior). To access a value by position, use `ser.iloc[pos]`\n",
      "  responses_to_first_question = responses_per_question[0]\n"
     ]
    },
    {
     "data": {
      "image/png": "[encoded data removed]",
      "text/plain": [
       "<Figure size 640x480 with 1 Axes>"
      ]
     },
     "metadata": {},
     "output_type": "display_data"
    }
   ],
   "source": [
    "fear_scales_agree = [1, 2, 3, 4, 5]\n",
    "plot_likert.plot_likert(fear_df_rev['Q2'], fear_scales_agree, plot_percentage=True)\n",
    "plt.show()"
   ]
  },
  {
   "cell_type": "code",
   "execution_count": null,
   "metadata": {},
   "outputs": [],
   "source": [
    "cronbach_alpha(fear_df_rev)"
   ]
  },
  {
   "cell_type": "code",
   "execution_count": null,
   "metadata": {},
   "outputs": [],
   "source": [
    "pg.cronbach_alpha(data=fear_df_rev)"
   ]
  }
 ],
 "metadata": {
  "kernelspec": {
   "display_name": "educ8009",
   "language": "python",
   "name": "python3"
  },
  "language_info": {
   "codemirror_mode": {
    "name": "ipython",
    "version": 3
   },
   "file_extension": ".py",
   "mimetype": "text/x-python",
   "name": "python",
   "nbconvert_exporter": "python",
   "pygments_lexer": "ipython3",
   "version": "3.10.15"
  }
 },
 "nbformat": 4,
 "nbformat_minor": 2
}
